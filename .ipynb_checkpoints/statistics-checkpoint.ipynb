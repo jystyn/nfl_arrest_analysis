{
 "cells": [
  {
   "cell_type": "code",
   "execution_count": 1,
   "metadata": {},
   "outputs": [],
   "source": [
    "# Dependencies\n",
    "from matplotlib import pyplot as plt\n",
    "from scipy import stats\n",
    "import numpy as np\n",
    "import pandas as pd"
   ]
  },
  {
   "cell_type": "markdown",
   "metadata": {},
   "source": [
    "# STATISTICS"
   ]
  },
  {
   "cell_type": "code",
   "execution_count": 2,
   "metadata": {
    "scrolled": true
   },
   "outputs": [
    {
     "data": {
      "text/html": [
       "<div>\n",
       "<style scoped>\n",
       "    .dataframe tbody tr th:only-of-type {\n",
       "        vertical-align: middle;\n",
       "    }\n",
       "\n",
       "    .dataframe tbody tr th {\n",
       "        vertical-align: top;\n",
       "    }\n",
       "\n",
       "    .dataframe thead th {\n",
       "        text-align: right;\n",
       "    }\n",
       "</style>\n",
       "<table border=\"1\" class=\"dataframe\">\n",
       "  <thead>\n",
       "    <tr style=\"text-align: right;\">\n",
       "      <th></th>\n",
       "      <th>DATE</th>\n",
       "      <th>TEAM</th>\n",
       "      <th>NAME</th>\n",
       "      <th>POSITION</th>\n",
       "      <th>CASE</th>\n",
       "      <th>CATEGORY</th>\n",
       "      <th>DESCRIPTION</th>\n",
       "      <th>OUTCOME</th>\n",
       "      <th>YEAR</th>\n",
       "    </tr>\n",
       "  </thead>\n",
       "  <tbody>\n",
       "    <tr>\n",
       "      <th>0</th>\n",
       "      <td>3/27/2017</td>\n",
       "      <td>SEA</td>\n",
       "      <td>Trevone Boykin</td>\n",
       "      <td>QB</td>\n",
       "      <td>Arrested</td>\n",
       "      <td>Drugs</td>\n",
       "      <td>Accused of marijuana possession, public intoxi...</td>\n",
       "      <td>Resolution undetermined.</td>\n",
       "      <td>2017</td>\n",
       "    </tr>\n",
       "    <tr>\n",
       "      <th>1</th>\n",
       "      <td>3/26/2017</td>\n",
       "      <td>CHI</td>\n",
       "      <td>Deiondre Hall</td>\n",
       "      <td>CB</td>\n",
       "      <td>Arrested</td>\n",
       "      <td>Disorderly conduct</td>\n",
       "      <td>Accused of disorderly conduct, public intoxica...</td>\n",
       "      <td>Resolution undetermined.</td>\n",
       "      <td>2017</td>\n",
       "    </tr>\n",
       "    <tr>\n",
       "      <th>2</th>\n",
       "      <td>3/26/2017</td>\n",
       "      <td>GB</td>\n",
       "      <td>Makinton Dorleant</td>\n",
       "      <td>CB</td>\n",
       "      <td>Arrested</td>\n",
       "      <td>Police interference</td>\n",
       "      <td>Accused of interfence after scuffle outside of...</td>\n",
       "      <td>Resolution undetermined.</td>\n",
       "      <td>2017</td>\n",
       "    </tr>\n",
       "    <tr>\n",
       "      <th>3</th>\n",
       "      <td>3/7/2017</td>\n",
       "      <td>KC</td>\n",
       "      <td>Demetrius Harris</td>\n",
       "      <td>TE</td>\n",
       "      <td>Arrested</td>\n",
       "      <td>Drugs</td>\n",
       "      <td>Suspected of felony marijuana possession as pa...</td>\n",
       "      <td>Resolution undetermined.</td>\n",
       "      <td>2017</td>\n",
       "    </tr>\n",
       "    <tr>\n",
       "      <th>4</th>\n",
       "      <td>3/5/2017</td>\n",
       "      <td>LAR</td>\n",
       "      <td>Ethan Westbrooks</td>\n",
       "      <td>DT</td>\n",
       "      <td>Arrested</td>\n",
       "      <td>Domestic violence</td>\n",
       "      <td>Suspected of domestic violence in Sacramento a...</td>\n",
       "      <td>Resolution undetermined.</td>\n",
       "      <td>2017</td>\n",
       "    </tr>\n",
       "  </tbody>\n",
       "</table>\n",
       "</div>"
      ],
      "text/plain": [
       "        DATE TEAM               NAME POSITION      CASE             CATEGORY  \\\n",
       "0  3/27/2017  SEA     Trevone Boykin       QB  Arrested                Drugs   \n",
       "1  3/26/2017  CHI      Deiondre Hall       CB  Arrested   Disorderly conduct   \n",
       "2  3/26/2017   GB  Makinton Dorleant       CB  Arrested  Police interference   \n",
       "3   3/7/2017   KC   Demetrius Harris       TE  Arrested                Drugs   \n",
       "4   3/5/2017  LAR   Ethan Westbrooks       DT  Arrested    Domestic violence   \n",
       "\n",
       "                                         DESCRIPTION  \\\n",
       "0  Accused of marijuana possession, public intoxi...   \n",
       "1  Accused of disorderly conduct, public intoxica...   \n",
       "2  Accused of interfence after scuffle outside of...   \n",
       "3  Suspected of felony marijuana possession as pa...   \n",
       "4  Suspected of domestic violence in Sacramento a...   \n",
       "\n",
       "                    OUTCOME  YEAR  \n",
       "0  Resolution undetermined.  2017  \n",
       "1  Resolution undetermined.  2017  \n",
       "2  Resolution undetermined.  2017  \n",
       "3  Resolution undetermined.  2017  \n",
       "4  Resolution undetermined.  2017  "
      ]
     },
     "execution_count": 2,
     "metadata": {},
     "output_type": "execute_result"
    }
   ],
   "source": [
    "#offense, defense, and special teams groups\n",
    "offense_pos = [\"QB\", \"RB\", \"FB\", \"WR\", \"TE\", \"OT\", \"OG\", \"C\", \"OL\"]\n",
    "defense_pos = [\"DE\", \"DT\", \"DE/DT\", \"LB\", \"CB\", \"S\", \"DB\"]\n",
    "sp_teams_pos = [\"K\", \"P\"]\n",
    "\n",
    "arrest_data = pd.read_csv('Resources/ArrestIncidents.csv')\n",
    "arrest_data[\"YEAR\"] = arrest_data[\"DATE\"].str[-4:]\n",
    "\n",
    "arrest_data.head()"
   ]
  },
  {
   "cell_type": "code",
   "execution_count": 3,
   "metadata": {},
   "outputs": [
    {
     "name": "stdout",
     "output_type": "stream",
     "text": [
      "[['MIN', 49], ['DEN', 47], ['CIN', 44], ['TEN', 36], ['TB', 36], ['IND', 35], ['JAC', 34], ['CLE', 33], ['KC', 32], ['CHI', 32], ['MIA', 31], ['BAL', 27], ['SEA', 26], ['SD', 26], ['NO', 25], ['SF', 24], ['PIT', 24], ['GB', 23], ['ARI', 21], ['OAK', 21], ['CAR', 21], ['WAS', 21], ['ATL', 20], ['NYJ', 20], ['NE', 20], ['BUF', 19], ['DET', 18], ['PHI', 18], ['DAL', 17], ['NYG', 16], ['HOU', 13], ['STL', 12], ['LAR', 5], ['Free agent', 3], ['LAC', 1]]\n"
     ]
    }
   ],
   "source": [
    "# Get the number of arrestation by team\n",
    "#Grab the Data\n",
    "team_count = arrest_data[\"TEAM\"].value_counts()\n",
    "team_count\n",
    "# Get the number of arrestation by team\n",
    "Team_arrestation = team_count.reset_index()\n",
    "Team_arrestation_list = Team_arrestation.values.tolist()\n",
    "print(Team_arrestation_list)\n"
   ]
  },
  {
   "cell_type": "code",
   "execution_count": 4,
   "metadata": {},
   "outputs": [
    {
     "name": "stdout",
     "output_type": "stream",
     "text": [
      "The average of arrestation per year is 47.22222222222222\n",
      "The mode of arrestation per year is 0    39\n",
      "1    43\n",
      "2    48\n",
      "Name: count, dtype: int64\n",
      "The median of arrestation per year is 47.5\n"
     ]
    }
   ],
   "source": [
    "# Measures of central tendancy of arrestation per year\n",
    "# Retrieve Data\n",
    "arrests_each_year = arrest_data[\"YEAR\"].value_counts()\n",
    "arrests_each_year\n",
    "# Determine the measures of central tendancy \n",
    "arrest_average = arrests_each_year.mean()\n",
    "arrest_mode = arrests_each_year.mode()\n",
    "arrest_median = arrests_each_year.median()\n",
    "\n",
    "print(f\"The average of arrestation per year is {arrest_average}\")\n",
    "print(f\"The mode of arrestation per year is {arrest_mode}\")\n",
    "print(f\"The median of arrestation per year is {arrest_median}\")"
   ]
  },
  {
   "cell_type": "code",
   "execution_count": 5,
   "metadata": {},
   "outputs": [
    {
     "name": "stdout",
     "output_type": "stream",
     "text": [
      "The mean of arrestation by team  is:24.285714285714285\n",
      "The median of arrestation by team is:23.0\n",
      "The mode of arrestation by team is :0    21\n",
      "Name: number of arrestation, dtype: int64\n"
     ]
    }
   ],
   "source": [
    "# Determine measure of central tendency of arrestation by team \n",
    "# Retrieve the data\n",
    "team_count = arrest_data[\"TEAM\"].value_counts()\n",
    "team_count\n",
    "# Calculate the different measures\n",
    "Team_arrestation = team_count.reset_index(name =\"number of arrestation\")\n",
    "Team_arrestation_average = Team_arrestation['number of arrestation'].mean() \n",
    "Team_arrestation_median = Team_arrestation['number of arrestation'].median()\n",
    "Team_arrestation_mode = Team_arrestation['number of arrestation'].mode()\n",
    "print(f\"The mean of arrestation by team  is:{Team_arrestation_average}\")\n",
    "print(f\"The median of arrestation by team is:{Team_arrestation_median}\")\n",
    "print(f\"The mode of arrestation by team is :{Team_arrestation_mode}\")"
   ]
  },
  {
   "cell_type": "code",
   "execution_count": 6,
   "metadata": {},
   "outputs": [
    {
     "name": "stdout",
     "output_type": "stream",
     "text": [
      "The team arrestation variance using the NumPy module is 120.7755102040816\n",
      "The team arrestation standard deviation using the NumPy module is 10.989791181095372\n"
     ]
    }
   ],
   "source": [
    "# Demonstrate calculating the variance and standard deviation using the different modules\n",
    "var_numpy = np.var(Team_arrestation['number of arrestation'],ddof = 0)\n",
    "print(f\"The team arrestation variance using the NumPy module is {var_numpy}\")\n",
    "\n",
    "sd_numpy = np.std(Team_arrestation['number of arrestation'],ddof = 0)\n",
    "print(f\"The team arrestation standard deviation using the NumPy module is {sd_numpy}\")"
   ]
  },
  {
   "cell_type": "code",
   "execution_count": 7,
   "metadata": {},
   "outputs": [
    {
     "name": "stdout",
     "output_type": "stream",
     "text": [
      "The average of arrestation for DUI by year is:12.647058823529411\n",
      "The average of arrestation for Drugs by year is:5.5\n",
      "The average of arrestation for Domestic violence by year  is:5.222222222222222\n",
      "The average of arrestation for assault by year is:3.9444444444444446\n",
      "The average of arrestation for Disorderly conduct by year  is:2.8666666666666667\n"
     ]
    }
   ],
   "source": [
    "#According to the top 5 category of arrestation, finds the measure of central tendancy by year\n",
    "# Top 5 = [DUI,Drugs, Domestic Violence, Assault, Disorderly conduct]\n",
    "#The mean of arrestation for the Top 5\n",
    "dui_year = arrest_data.loc[arrest_data[\"CATEGORY\"] == \"DUI\", :][\"YEAR\"].value_counts()\n",
    "drugs_year = arrest_data.loc[arrest_data[\"CATEGORY\"] == \"Drugs\", :][\"YEAR\"].value_counts()\n",
    "dv_year = arrest_data.loc[arrest_data[\"CATEGORY\"] == \"Domestic violence\", :][\"YEAR\"].value_counts()\n",
    "assault_year = arrest_data.loc[arrest_data[\"CATEGORY\"] == \"Assault\", :][\"YEAR\"].value_counts()\n",
    "disorderly_conduct_year = arrest_data.loc[arrest_data[\"CATEGORY\"] == \"Disorderly conduct\", :][\"YEAR\"].value_counts()\n",
    "\n",
    "print(f\"The average of arrestation for DUI by year is:{dui_year.mean()}\")\n",
    "print(f\"The average of arrestation for Drugs by year is:{drugs_year.mean()}\")\n",
    "print(f\"The average of arrestation for Domestic violence by year  is:{dv_year.mean()}\")\n",
    "print(f\"The average of arrestation for assault by year is:{assault_year.mean()}\")\n",
    "print(f\"The average of arrestation for Disorderly conduct by year  is:{disorderly_conduct_year.mean()}\")\n"
   ]
  },
  {
   "cell_type": "code",
   "execution_count": 8,
   "metadata": {},
   "outputs": [
    {
     "name": "stdout",
     "output_type": "stream",
     "text": [
      "The average of arrestation for DUI by team is:6.71875\n",
      "The average of arrestation for Drugs by team is:3.193548387096774\n",
      "The average of arrestation for Domestic violence by team  is:3.1333333333333333\n",
      "The average of arrestation for assault by team is:3.9444444444444446\n",
      "The average of arrestation for Disorderly conduct by team  is:1.9545454545454546\n"
     ]
    }
   ],
   "source": [
    "# Average of the top 5 arrsestation [DUI, Drugs, Domestic Violence, Assault and Disorderly conduct] by team\n",
    "dui_team = arrest_data.loc[arrest_data[\"CATEGORY\"] == \"DUI\", :][\"TEAM\"].value_counts()\n",
    "drugs_team = arrest_data.loc[arrest_data[\"CATEGORY\"] == \"Drugs\", :][\"TEAM\"].value_counts()\n",
    "dv_team = arrest_data.loc[arrest_data[\"CATEGORY\"] == \"Domestic violence\", :][\"TEAM\"].value_counts()\n",
    "assault_team = arrest_data.loc[arrest_data[\"CATEGORY\"] == \"Assault\", :][\"TEAM\"].value_counts()\n",
    "disorderly_conduct_team = arrest_data.loc[arrest_data[\"CATEGORY\"] == \"Disorderly conduct\", :][\"TEAM\"].value_counts()\n",
    "print(f\"The average of arrestation for DUI by team is:{dui_team.mean()}\")\n",
    "print(f\"The average of arrestation for Drugs by team is:{drugs_team.mean()}\")\n",
    "print(f\"The average of arrestation for Domestic violence by team  is:{dv_team.mean()}\")\n",
    "print(f\"The average of arrestation for assault by team is:{assault_year.mean()}\")\n",
    "print(f\"The average of arrestation for Disorderly conduct by team  is:{disorderly_conduct_team.mean()}\")"
   ]
  },
  {
   "cell_type": "code",
   "execution_count": 9,
   "metadata": {},
   "outputs": [
    {
     "data": {
      "text/html": [
       "<div>\n",
       "<style scoped>\n",
       "    .dataframe tbody tr th:only-of-type {\n",
       "        vertical-align: middle;\n",
       "    }\n",
       "\n",
       "    .dataframe tbody tr th {\n",
       "        vertical-align: top;\n",
       "    }\n",
       "\n",
       "    .dataframe thead th {\n",
       "        text-align: right;\n",
       "    }\n",
       "</style>\n",
       "<table border=\"1\" class=\"dataframe\">\n",
       "  <thead>\n",
       "    <tr style=\"text-align: right;\">\n",
       "      <th></th>\n",
       "      <th>DUI</th>\n",
       "      <th>Drugs</th>\n",
       "      <th>DV</th>\n",
       "      <th>Assault</th>\n",
       "      <th>Disorderly</th>\n",
       "    </tr>\n",
       "    <tr>\n",
       "      <th>CASE</th>\n",
       "      <th></th>\n",
       "      <th></th>\n",
       "      <th></th>\n",
       "      <th></th>\n",
       "      <th></th>\n",
       "    </tr>\n",
       "  </thead>\n",
       "  <tbody>\n",
       "    <tr>\n",
       "      <th>Arrested</th>\n",
       "      <td>213.0</td>\n",
       "      <td>76.0</td>\n",
       "      <td>89.0</td>\n",
       "      <td>49.0</td>\n",
       "      <td>40.0</td>\n",
       "    </tr>\n",
       "    <tr>\n",
       "      <th>Charged</th>\n",
       "      <td>2.0</td>\n",
       "      <td>6.0</td>\n",
       "      <td>3.0</td>\n",
       "      <td>12.0</td>\n",
       "      <td>1.0</td>\n",
       "    </tr>\n",
       "    <tr>\n",
       "      <th>Cited</th>\n",
       "      <td>0.0</td>\n",
       "      <td>11.0</td>\n",
       "      <td>0.0</td>\n",
       "      <td>3.0</td>\n",
       "      <td>2.0</td>\n",
       "    </tr>\n",
       "    <tr>\n",
       "      <th>Detained</th>\n",
       "      <td>0.0</td>\n",
       "      <td>1.0</td>\n",
       "      <td>0.0</td>\n",
       "      <td>0.0</td>\n",
       "      <td>0.0</td>\n",
       "    </tr>\n",
       "    <tr>\n",
       "      <th>Indicted</th>\n",
       "      <td>0.0</td>\n",
       "      <td>3.0</td>\n",
       "      <td>1.0</td>\n",
       "      <td>0.0</td>\n",
       "      <td>0.0</td>\n",
       "    </tr>\n",
       "    <tr>\n",
       "      <th>Summoned</th>\n",
       "      <td>0.0</td>\n",
       "      <td>2.0</td>\n",
       "      <td>0.0</td>\n",
       "      <td>1.0</td>\n",
       "      <td>0.0</td>\n",
       "    </tr>\n",
       "    <tr>\n",
       "      <th>Surrendered</th>\n",
       "      <td>0.0</td>\n",
       "      <td>0.0</td>\n",
       "      <td>1.0</td>\n",
       "      <td>4.0</td>\n",
       "      <td>0.0</td>\n",
       "    </tr>\n",
       "    <tr>\n",
       "      <th>Warrant</th>\n",
       "      <td>0.0</td>\n",
       "      <td>0.0</td>\n",
       "      <td>0.0</td>\n",
       "      <td>2.0</td>\n",
       "      <td>0.0</td>\n",
       "    </tr>\n",
       "  </tbody>\n",
       "</table>\n",
       "</div>"
      ],
      "text/plain": [
       "               DUI  Drugs    DV  Assault  Disorderly\n",
       "CASE                                                \n",
       "Arrested     213.0   76.0  89.0     49.0        40.0\n",
       "Charged        2.0    6.0   3.0     12.0         1.0\n",
       "Cited          0.0   11.0   0.0      3.0         2.0\n",
       "Detained       0.0    1.0   0.0      0.0         0.0\n",
       "Indicted       0.0    3.0   1.0      0.0         0.0\n",
       "Summoned       0.0    2.0   0.0      1.0         0.0\n",
       "Surrendered    0.0    0.0   1.0      4.0         0.0\n",
       "Warrant        0.0    0.0   0.0      2.0         0.0"
      ]
     },
     "execution_count": 9,
     "metadata": {},
     "output_type": "execute_result"
    }
   ],
   "source": [
    "# How many players have been charged for DUI\n",
    "dui_case = arrest_data.loc[arrest_data[\"CATEGORY\"] == \"DUI\", :][\"CASE\"].value_counts()\n",
    "dui_case\n",
    "# How many players have been charged for Drogs\n",
    "drugs_case = arrest_data.loc[arrest_data[\"CATEGORY\"] == \"Drugs\", :][\"CASE\"].value_counts()\n",
    "drugs_case\n",
    "# Determine how many players have been charged for domestic violence \n",
    "dv_case = arrest_data.loc[arrest_data[\"CATEGORY\"] == \"Domestic violence\", :][\"CASE\"].value_counts()\n",
    "dv_case\n",
    "# Determine how many players have been charged for assault \n",
    "assault_case = arrest_data.loc[arrest_data[\"CATEGORY\"] == \"Assault\", :][\"CASE\"].value_counts()\n",
    "assault_case\n",
    "# Determine how many players have been charged for Disorderly conduct \n",
    "disorderly_case = arrest_data.loc[arrest_data[\"CATEGORY\"] == \"Disorderly conduct\", :][\"CASE\"].value_counts()\n",
    "disorderly_case\n",
    "# Create a dataframe\n",
    "case_charged = pd.DataFrame({'DUI':dui_case,\n",
    "                            'Drugs':drugs_case, \n",
    "                            'DV':dv_case, \n",
    "                            'Assault':assault_case, \n",
    "                            'Disorderly':disorderly_case})\n",
    "case_Charged = case_charged.replace(np.nan,0)\n",
    "case_Charged"
   ]
  },
  {
   "cell_type": "code",
   "execution_count": 10,
   "metadata": {
    "scrolled": true
   },
   "outputs": [
    {
     "data": {
      "image/png": "[encoded data removed]",
      "text/plain": [
       "<Figure size 1000x500 with 1 Axes>"
      ]
     },
     "metadata": {},
     "output_type": "display_data"
    }
   ],
   "source": [
    "import matplotlib.pyplot as plt\n",
    "\n",
    "\n",
    "categories = ['DUI', 'Drugs', 'Domestic violence', 'Assault', 'Disorderly conduct']\n",
    "values = [2, 6, 3, 12, 1]\n",
    "\n",
    "# Create a bar graph\n",
    "plt.figure(figsize=(10, 5))\n",
    "bars = plt.bar(categories, values, color='blue')\n",
    "\n",
    "# Add labels and title\n",
    "plt.xlabel('Categories')\n",
    "plt.ylabel('Charged')\n",
    "plt.title('Crime charged by category')\n",
    "\n",
    "# Rotate x-axis labels for better visibility\n",
    "plt.xticks(rotation=45, ha='right')\n",
    "\n",
    "# Display count values on top of the bars\n",
    "for bar, value in zip(bars, values):\n",
    "    plt.text(bar.get_x() + bar.get_width() / 2, bar.get_height(), str(value),\n",
    "             ha='center', va='bottom', fontsize=8, color='black')\n",
    "\n",
    "# Show the graph\n",
    "plt.tight_layout()\n",
    "plt.show()"
   ]
  },
  {
   "cell_type": "code",
   "execution_count": 11,
   "metadata": {},
   "outputs": [
    {
     "name": "stdout",
     "output_type": "stream",
     "text": [
      "The average of charged by team  is:2.1666666666666665\n"
     ]
    },
    {
     "data": {
      "text/plain": [
       "TEAM\n",
       "PHI    5\n",
       "KC     5\n",
       "MIN    4\n",
       "BAL    4\n",
       "NYJ    3\n",
       "Name: count, dtype: int64"
      ]
     },
     "execution_count": 11,
     "metadata": {},
     "output_type": "execute_result"
    }
   ],
   "source": [
    "# Determine which team the most charged\n",
    "charged_team = arrest_data.loc[arrest_data[\"CASE\"] == \"Charged\", :][\"TEAM\"].value_counts()\n",
    "print(f\"The average of charged by team  is:{charged_team.mean()}\")\n",
    "charged_team.head()"
   ]
  },
  {
   "cell_type": "code",
   "execution_count": 12,
   "metadata": {},
   "outputs": [
    {
     "data": {
      "text/plain": [
       "35"
      ]
     },
     "execution_count": 12,
     "metadata": {},
     "output_type": "execute_result"
    }
   ],
   "source": [
    "# Count the number of the team im the DataFrame\n",
    "team_count_number = arrest_data[\"TEAM\"].nunique()\n",
    "team_count_number"
   ]
  },
  {
   "cell_type": "code",
   "execution_count": 13,
   "metadata": {},
   "outputs": [
    {
     "data": {
      "text/plain": [
       "385"
      ]
     },
     "execution_count": 13,
     "metadata": {},
     "output_type": "execute_result"
    }
   ],
   "source": [
    "offense_arrest_number = arrest_data[arrest_data[\"POSITION\"].isin(offense_pos)==True][\"CATEGORY\"].count()\n",
    "offense_arrest_number"
   ]
  },
  {
   "cell_type": "code",
   "execution_count": 14,
   "metadata": {},
   "outputs": [
    {
     "data": {
      "text/plain": [
       "450"
      ]
     },
     "execution_count": 14,
     "metadata": {},
     "output_type": "execute_result"
    }
   ],
   "source": [
    "defense_arrest_number = arrest_data[arrest_data[\"POSITION\"].isin(defense_pos)==True][\"CATEGORY\"].count()\n",
    "defense_arrest_number"
   ]
  },
  {
   "cell_type": "code",
   "execution_count": 15,
   "metadata": {},
   "outputs": [
    {
     "data": {
      "text/plain": [
       "15"
      ]
     },
     "execution_count": 15,
     "metadata": {},
     "output_type": "execute_result"
    }
   ],
   "source": [
    "sp_tm_arrest_number = arrest_data[arrest_data[\"POSITION\"].isin(sp_teams_pos)==True][\"CATEGORY\"].count()\n",
    "sp_tm_arrest_number"
   ]
  },
  {
   "cell_type": "code",
   "execution_count": 16,
   "metadata": {},
   "outputs": [],
   "source": [
    "# Collected data in of NFL arreatation 850 cases \n",
    "# Create the data frame\n",
    "collected_data = pd.Series([385,450,14], index=[\"offense\", \"defense\", \"sp\"])\n",
    "df = pd.DataFrame([collected_data]).T"
   ]
  },
  {
   "cell_type": "code",
   "execution_count": 17,
   "metadata": {},
   "outputs": [],
   "source": [
    "# Create the data frame\n",
    "df = pd.DataFrame([collected_data]).T"
   ]
  },
  {
   "cell_type": "code",
   "execution_count": 18,
   "metadata": {},
   "outputs": [],
   "source": [
    "# Add a colum for the default value\n",
    "df[1] = 283"
   ]
  },
  {
   "cell_type": "code",
   "execution_count": 19,
   "metadata": {},
   "outputs": [
    {
     "data": {
      "text/html": [
       "<div>\n",
       "<style scoped>\n",
       "    .dataframe tbody tr th:only-of-type {\n",
       "        vertical-align: middle;\n",
       "    }\n",
       "\n",
       "    .dataframe tbody tr th {\n",
       "        vertical-align: top;\n",
       "    }\n",
       "\n",
       "    .dataframe thead th {\n",
       "        text-align: right;\n",
       "    }\n",
       "</style>\n",
       "<table border=\"1\" class=\"dataframe\">\n",
       "  <thead>\n",
       "    <tr style=\"text-align: right;\">\n",
       "      <th></th>\n",
       "      <th>collected</th>\n",
       "      <th>expected</th>\n",
       "    </tr>\n",
       "  </thead>\n",
       "  <tbody>\n",
       "    <tr>\n",
       "      <th>offense</th>\n",
       "      <td>385</td>\n",
       "      <td>283</td>\n",
       "    </tr>\n",
       "    <tr>\n",
       "      <th>defense</th>\n",
       "      <td>450</td>\n",
       "      <td>283</td>\n",
       "    </tr>\n",
       "    <tr>\n",
       "      <th>sp</th>\n",
       "      <td>14</td>\n",
       "      <td>283</td>\n",
       "    </tr>\n",
       "  </tbody>\n",
       "</table>\n",
       "</div>"
      ],
      "text/plain": [
       "         collected  expected\n",
       "offense        385       283\n",
       "defense        450       283\n",
       "sp              14       283"
      ]
     },
     "execution_count": 19,
     "metadata": {},
     "output_type": "execute_result"
    }
   ],
   "source": [
    "# Rename colums\n",
    "df.columns = [\"collected\",\"expected\"]\n",
    "df"
   ]
  },
  {
   "cell_type": "code",
   "execution_count": 20,
   "metadata": {},
   "outputs": [
    {
     "data": {
      "text/plain": [
       "5.991464547107979"
      ]
     },
     "execution_count": 20,
     "metadata": {},
     "output_type": "execute_result"
    }
   ],
   "source": [
    "# The degree of freedom is 3-1 = 2\n",
    "# With a p-value of 0.05, the confidence level is 1.00-0.05 = 0.95.\n",
    "critical_value = stats.chi2.ppf(q = 0.95, df = 2)\n",
    "critical_value"
   ]
  },
  {
   "cell_type": "code",
   "execution_count": 21,
   "metadata": {},
   "outputs": [
    {
     "data": {
      "text/plain": [
       "Power_divergenceResult(statistic=391.0035335689046, pvalue=1.2435449356546432e-85)"
      ]
     },
     "execution_count": 21,
     "metadata": {},
     "output_type": "execute_result"
    }
   ],
   "source": [
    "# Run the chi square test with stats.chisquare()\n",
    "stats.chisquare(df['collected'], df['expected'])"
   ]
  },
  {
   "cell_type": "markdown",
   "metadata": {},
   "source": [
    "Conclusion\n",
    "\n",
    "The chi-square value of 391 exceeds the critical value of 5.99, we conclude that the results are statistically significant."
   ]
  },
  {
   "cell_type": "code",
   "execution_count": null,
   "metadata": {},
   "outputs": [],
   "source": []
  }
 ],
 "metadata": {
  "kernelspec": {
   "display_name": "Python 3 (ipykernel)",
   "language": "python",
   "name": "python3"
  },
  "language_info": {
   "codemirror_mode": {
    "name": "ipython",
    "version": 3
   },
   "file_extension": ".py",
   "mimetype": "text/x-python",
   "name": "python",
   "nbconvert_exporter": "python",
   "pygments_lexer": "ipython3",
   "version": "3.11.5"
  }
 },
 "nbformat": 4,
 "nbformat_minor": 2
}

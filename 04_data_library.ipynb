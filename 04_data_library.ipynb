{
 "cells": [
  {
   "cell_type": "code",
   "execution_count": 1,
   "metadata": {},
   "outputs": [],
   "source": [
    "# Dependencies\n",
    "from matplotlib import pyplot as plt\n",
    "from scipy import stats\n",
    "import numpy as np\n",
    "import pandas as pd"
   ]
  },
  {
   "cell_type": "markdown",
   "metadata": {},
   "source": [
    "<font size=\"6\">**LIBRARY: COPY, PASTE, WHATEVER, BUT SHHH**</font>"
   ]
  },
  {
   "cell_type": "code",
   "execution_count": 2,
   "metadata": {},
   "outputs": [
    {
     "data": {
      "text/html": [
       "<div>\n",
       "<style scoped>\n",
       "    .dataframe tbody tr th:only-of-type {\n",
       "        vertical-align: middle;\n",
       "    }\n",
       "\n",
       "    .dataframe tbody tr th {\n",
       "        vertical-align: top;\n",
       "    }\n",
       "\n",
       "    .dataframe thead th {\n",
       "        text-align: right;\n",
       "    }\n",
       "</style>\n",
       "<table border=\"1\" class=\"dataframe\">\n",
       "  <thead>\n",
       "    <tr style=\"text-align: right;\">\n",
       "      <th></th>\n",
       "      <th>DATE</th>\n",
       "      <th>TEAM</th>\n",
       "      <th>NAME</th>\n",
       "      <th>POSITION</th>\n",
       "      <th>CASE</th>\n",
       "      <th>CATEGORY</th>\n",
       "      <th>DESCRIPTION</th>\n",
       "      <th>OUTCOME</th>\n",
       "      <th>YEAR</th>\n",
       "    </tr>\n",
       "  </thead>\n",
       "  <tbody>\n",
       "    <tr>\n",
       "      <th>0</th>\n",
       "      <td>3/27/2017</td>\n",
       "      <td>SEA</td>\n",
       "      <td>Trevone Boykin</td>\n",
       "      <td>QB</td>\n",
       "      <td>Arrested</td>\n",
       "      <td>Drugs</td>\n",
       "      <td>Accused of marijuana possession, public intoxi...</td>\n",
       "      <td>Resolution undetermined.</td>\n",
       "      <td>2017</td>\n",
       "    </tr>\n",
       "    <tr>\n",
       "      <th>1</th>\n",
       "      <td>3/26/2017</td>\n",
       "      <td>CHI</td>\n",
       "      <td>Deiondre Hall</td>\n",
       "      <td>CB</td>\n",
       "      <td>Arrested</td>\n",
       "      <td>Disorderly conduct</td>\n",
       "      <td>Accused of disorderly conduct, public intoxica...</td>\n",
       "      <td>Resolution undetermined.</td>\n",
       "      <td>2017</td>\n",
       "    </tr>\n",
       "    <tr>\n",
       "      <th>2</th>\n",
       "      <td>3/26/2017</td>\n",
       "      <td>GB</td>\n",
       "      <td>Makinton Dorleant</td>\n",
       "      <td>CB</td>\n",
       "      <td>Arrested</td>\n",
       "      <td>Police interference</td>\n",
       "      <td>Accused of interfence after scuffle outside of...</td>\n",
       "      <td>Resolution undetermined.</td>\n",
       "      <td>2017</td>\n",
       "    </tr>\n",
       "    <tr>\n",
       "      <th>3</th>\n",
       "      <td>3/7/2017</td>\n",
       "      <td>KC</td>\n",
       "      <td>Demetrius Harris</td>\n",
       "      <td>TE</td>\n",
       "      <td>Arrested</td>\n",
       "      <td>Drugs</td>\n",
       "      <td>Suspected of felony marijuana possession as pa...</td>\n",
       "      <td>Resolution undetermined.</td>\n",
       "      <td>2017</td>\n",
       "    </tr>\n",
       "    <tr>\n",
       "      <th>4</th>\n",
       "      <td>3/5/2017</td>\n",
       "      <td>LAR</td>\n",
       "      <td>Ethan Westbrooks</td>\n",
       "      <td>DT</td>\n",
       "      <td>Arrested</td>\n",
       "      <td>Domestic violence</td>\n",
       "      <td>Suspected of domestic violence in Sacramento a...</td>\n",
       "      <td>Resolution undetermined.</td>\n",
       "      <td>2017</td>\n",
       "    </tr>\n",
       "  </tbody>\n",
       "</table>\n",
       "</div>"
      ],
      "text/plain": [
       "        DATE TEAM               NAME POSITION      CASE             CATEGORY  \\\n",
       "0  3/27/2017  SEA     Trevone Boykin       QB  Arrested                Drugs   \n",
       "1  3/26/2017  CHI      Deiondre Hall       CB  Arrested   Disorderly conduct   \n",
       "2  3/26/2017   GB  Makinton Dorleant       CB  Arrested  Police interference   \n",
       "3   3/7/2017   KC   Demetrius Harris       TE  Arrested                Drugs   \n",
       "4   3/5/2017  LAR   Ethan Westbrooks       DT  Arrested    Domestic violence   \n",
       "\n",
       "                                         DESCRIPTION  \\\n",
       "0  Accused of marijuana possession, public intoxi...   \n",
       "1  Accused of disorderly conduct, public intoxica...   \n",
       "2  Accused of interfence after scuffle outside of...   \n",
       "3  Suspected of felony marijuana possession as pa...   \n",
       "4  Suspected of domestic violence in Sacramento a...   \n",
       "\n",
       "                    OUTCOME  YEAR  \n",
       "0  Resolution undetermined.  2017  \n",
       "1  Resolution undetermined.  2017  \n",
       "2  Resolution undetermined.  2017  \n",
       "3  Resolution undetermined.  2017  \n",
       "4  Resolution undetermined.  2017  "
      ]
     },
     "execution_count": 2,
     "metadata": {},
     "output_type": "execute_result"
    }
   ],
   "source": [
    "#offense, defense, and special teams groups\n",
    "offense_pos = [\"QB\", \"RB\", \"FB\", \"WR\", \"TE\", \"OT\", \"OG\", \"C\", \"OL\"]\n",
    "defense_pos = [\"DE\", \"DT\", \"DE/DT\", \"LB\", \"CB\", \"S\", \"DB\"]\n",
    "sp_teams_pos = [\"K\", \"P\"]\n",
    "\n",
    "players_in_box = [\"QB\", \"RB\", \"FB\", \"TE\", \"OT\", \"OG\", \"C\", \"OL\", \"DE\", \"DT\", \"DE/DT\", \"LB\"]\n",
    "violent_crimes = [\n",
    "                'Domestic violence', \n",
    "                'Assault', \n",
    "                'Battery', \n",
    "                'Burglary', \n",
    "                'Domestic violence, rape', \n",
    "                'Child abuse', \n",
    "                'Assault, alcohol', \n",
    "                'Murder, gun', \n",
    "                'Assault, gun', \n",
    "                'Burglary, gun', \n",
    "                'Sexual assault', \n",
    "                'DUI, assault', \n",
    "                'DUI, manslaughter', \n",
    "                'Manslaughter',\n",
    "                'Alcohol, assault',\n",
    "                'Assault, gun',\n",
    "                'Battery, resisting arrrest',\n",
    "                'Domestic',\n",
    "                'Battery, alcohol',\n",
    "                'Domestic violence, alcohol',\n",
    "                'Gun, assault',\n",
    "                'Domestic violence, gun',\n",
    "                'Assault, alcohol',\n",
    "                'Burglary, assault',\n",
    "                'Manslaughter, child abuse',\n",
    "                'Burglary, battery',\n",
    "                'Murder'\n",
    "                ]\n",
    "domestic_violence_terms = [\n",
    "                'Domestic violence',\n",
    "                'Domestic violence, rape',\n",
    "                'Domestic violence, gun',\n",
    "                'Domestic violence, alcohol',\n",
    "                'Domestic'\n",
    "                ]\n",
    "\n",
    "arrest_data = pd.read_csv('Resources/ArrestIncidents.csv')\n",
    "arrest_data[\"YEAR\"] = arrest_data[\"DATE\"].str[-4:]\n",
    "\n",
    "arrest_data.head()"
   ]
  },
  {
   "cell_type": "code",
   "execution_count": 3,
   "metadata": {},
   "outputs": [
    {
     "data": {
      "text/plain": [
       "TEAM\n",
       "MIN    49\n",
       "DEN    47\n",
       "CIN    44\n",
       "TEN    36\n",
       "TB     36\n",
       "Name: count, dtype: int64"
      ]
     },
     "execution_count": 3,
     "metadata": {},
     "output_type": "execute_result"
    }
   ],
   "source": [
    "team_count = arrest_data[\"TEAM\"].value_counts()\n",
    "team_count.head()"
   ]
  },
  {
   "cell_type": "code",
   "execution_count": 4,
   "metadata": {},
   "outputs": [
    {
     "data": {
      "text/plain": [
       "CATEGORY\n",
       "DUI                        17\n",
       "Assault                     7\n",
       "Disorderly conduct, sex     4\n",
       "Drugs                       3\n",
       "Domestic violence           3\n",
       "Name: count, dtype: int64"
      ]
     },
     "execution_count": 4,
     "metadata": {},
     "output_type": "execute_result"
    }
   ],
   "source": [
    "min_arrest_counts = arrest_data.loc[arrest_data[\"TEAM\"] == \"MIN\", :][\"CATEGORY\"].value_counts()\n",
    "min_arrest_counts.head()"
   ]
  },
  {
   "cell_type": "code",
   "execution_count": 5,
   "metadata": {},
   "outputs": [
    {
     "data": {
      "text/plain": [
       "CATEGORY\n",
       "DUI                   12\n",
       "Domestic violence     11\n",
       "Assault                4\n",
       "Disorderly conduct     3\n",
       "License                2\n",
       "Name: count, dtype: int64"
      ]
     },
     "execution_count": 5,
     "metadata": {},
     "output_type": "execute_result"
    }
   ],
   "source": [
    "den_arrest_counts = arrest_data.loc[arrest_data[\"TEAM\"] == \"DEN\", :][\"CATEGORY\"].value_counts()\n",
    "den_arrest_counts.head()"
   ]
  },
  {
   "cell_type": "code",
   "execution_count": 6,
   "metadata": {},
   "outputs": [
    {
     "data": {
      "text/plain": [
       "CATEGORY\n",
       "Assault               9\n",
       "DUI                   9\n",
       "Domestic violence     5\n",
       "Gun                   4\n",
       "Disorderly conduct    3\n",
       "Name: count, dtype: int64"
      ]
     },
     "execution_count": 6,
     "metadata": {},
     "output_type": "execute_result"
    }
   ],
   "source": [
    "cin_arrest_counts = arrest_data.loc[arrest_data[\"TEAM\"] == \"CIN\", :][\"CATEGORY\"].value_counts()\n",
    "cin_arrest_counts.head()"
   ]
  },
  {
   "cell_type": "code",
   "execution_count": 7,
   "metadata": {},
   "outputs": [
    {
     "data": {
      "text/plain": [
       "NAME\n",
       "Adam Jones         10\n",
       "Kenny Britt         7\n",
       "Chris Henry         6\n",
       "Aldon Smith         5\n",
       "Bryant McKinnie     4\n",
       "Name: count, dtype: int64"
      ]
     },
     "execution_count": 7,
     "metadata": {},
     "output_type": "execute_result"
    }
   ],
   "source": [
    "player_arrest_count = arrest_data[\"NAME\"].value_counts()\n",
    "player_arrest_count.head()"
   ]
  },
  {
   "cell_type": "code",
   "execution_count": 8,
   "metadata": {},
   "outputs": [
    {
     "data": {
      "text/plain": [
       "POSITION\n",
       "WR       136\n",
       "LB       118\n",
       "CB       112\n",
       "RB        97\n",
       "DT        77\n",
       "S         70\n",
       "DE        68\n",
       "OT        49\n",
       "TE        39\n",
       "OG        25\n",
       "QB        18\n",
       "FB        15\n",
       "K         12\n",
       "C          5\n",
       "DB         4\n",
       "P          3\n",
       "OL         1\n",
       "DE/DT      1\n",
       "Name: count, dtype: int64"
      ]
     },
     "execution_count": 8,
     "metadata": {},
     "output_type": "execute_result"
    }
   ],
   "source": [
    "position_count = arrest_data[\"POSITION\"].value_counts()\n",
    "position_count"
   ]
  },
  {
   "cell_type": "code",
   "execution_count": 9,
   "metadata": {},
   "outputs": [
    {
     "data": {
      "text/plain": [
       "CASE\n",
       "Arrested       731\n",
       "Charged         52\n",
       "Cited           31\n",
       "Surrendered     14\n",
       "Indicted        12\n",
       "Summoned         4\n",
       "Warrant          3\n",
       "Detained         1\n",
       "Died             1\n",
       "Jailed           1\n",
       "Name: count, dtype: int64"
      ]
     },
     "execution_count": 9,
     "metadata": {},
     "output_type": "execute_result"
    }
   ],
   "source": [
    "case_type_count = arrest_data[\"CASE\"].value_counts()\n",
    "case_type_count"
   ]
  },
  {
   "cell_type": "code",
   "execution_count": 10,
   "metadata": {},
   "outputs": [
    {
     "data": {
      "text/plain": [
       "CATEGORY\n",
       "DUI                      215\n",
       "Drugs                     99\n",
       "Domestic violence         94\n",
       "Assault                   71\n",
       "Disorderly conduct        43\n",
       "                        ... \n",
       "Traffic warrant            1\n",
       "Handicap parking           1\n",
       "Animal neglect             1\n",
       "Gun, privacy invasion      1\n",
       "Murder                     1\n",
       "Name: count, Length: 107, dtype: int64"
      ]
     },
     "execution_count": 10,
     "metadata": {},
     "output_type": "execute_result"
    }
   ],
   "source": [
    "category_count = arrest_data[\"CATEGORY\"].value_counts()\n",
    "category_count"
   ]
  },
  {
   "cell_type": "code",
   "execution_count": 11,
   "metadata": {},
   "outputs": [
    {
     "data": {
      "text/plain": [
       "OUTCOME\n",
       "Resolution undetermined.    166\n",
       "Charge dropped.              51\n",
       "Charges dropped.             23\n",
       "Acquitted.                   10\n",
       "Diversion program.            9\n",
       "Name: count, dtype: int64"
      ]
     },
     "execution_count": 11,
     "metadata": {},
     "output_type": "execute_result"
    }
   ],
   "source": [
    "outcome_count = arrest_data[\"OUTCOME\"].value_counts()\n",
    "outcome_count.head()"
   ]
  },
  {
   "cell_type": "code",
   "execution_count": 12,
   "metadata": {},
   "outputs": [
    {
     "data": {
      "text/plain": [
       "CATEGORY\n",
       "DUI                   37\n",
       "Drugs                 17\n",
       "Assault               12\n",
       "Domestic violence     10\n",
       "Disorderly conduct     8\n",
       "Name: count, dtype: int64"
      ]
     },
     "execution_count": 12,
     "metadata": {},
     "output_type": "execute_result"
    }
   ],
   "source": [
    "#Categories for WR arrests\n",
    "wr_arrest_counts = arrest_data.loc[arrest_data[\"POSITION\"] == \"WR\", :][\"CATEGORY\"].value_counts()\n",
    "wr_arrest_counts.head()"
   ]
  },
  {
   "cell_type": "code",
   "execution_count": 13,
   "metadata": {},
   "outputs": [
    {
     "data": {
      "text/plain": [
       "CATEGORY\n",
       "DUI                  25\n",
       "Assault              14\n",
       "Domestic violence    13\n",
       "Drugs                 9\n",
       "Battery               6\n",
       "Name: count, dtype: int64"
      ]
     },
     "execution_count": 13,
     "metadata": {},
     "output_type": "execute_result"
    }
   ],
   "source": [
    "#Categories for LB arrests\n",
    "lb_arrest_counts = arrest_data.loc[arrest_data[\"POSITION\"] == \"LB\", :][\"CATEGORY\"].value_counts()\n",
    "lb_arrest_counts.head()"
   ]
  },
  {
   "cell_type": "code",
   "execution_count": 14,
   "metadata": {},
   "outputs": [
    {
     "data": {
      "text/plain": [
       "CATEGORY\n",
       "DUI                   34\n",
       "Drugs                 14\n",
       "Assault               12\n",
       "Domestic violence      9\n",
       "Disorderly conduct     7\n",
       "Name: count, dtype: int64"
      ]
     },
     "execution_count": 14,
     "metadata": {},
     "output_type": "execute_result"
    }
   ],
   "source": [
    "#Categories for CB arrests\n",
    "cb_arrest_counts = arrest_data.loc[arrest_data[\"POSITION\"] == \"CB\", :][\"CATEGORY\"].value_counts()\n",
    "cb_arrest_counts.head()"
   ]
  },
  {
   "cell_type": "code",
   "execution_count": 15,
   "metadata": {},
   "outputs": [
    {
     "data": {
      "text/plain": [
       "CATEGORY\n",
       "Domestic violence     16\n",
       "Drugs                 15\n",
       "DUI                   15\n",
       "Assault                7\n",
       "Disorderly conduct     5\n",
       "Name: count, dtype: int64"
      ]
     },
     "execution_count": 15,
     "metadata": {},
     "output_type": "execute_result"
    }
   ],
   "source": [
    "#Categories for RB arrests\n",
    "rb_arrest_counts = arrest_data.loc[arrest_data[\"POSITION\"] == \"RB\", :][\"CATEGORY\"].value_counts()\n",
    "rb_arrest_counts.head()"
   ]
  },
  {
   "cell_type": "code",
   "execution_count": 16,
   "metadata": {},
   "outputs": [
    {
     "data": {
      "text/plain": [
       "CATEGORY\n",
       "DUI                   17\n",
       "Drugs                 11\n",
       "Domestic violence      9\n",
       "Disorderly conduct     5\n",
       "Gun                    4\n",
       "Name: count, dtype: int64"
      ]
     },
     "execution_count": 16,
     "metadata": {},
     "output_type": "execute_result"
    }
   ],
   "source": [
    "#Categories for DT arrests\n",
    "dt_arrest_counts = arrest_data.loc[arrest_data[\"POSITION\"] == \"DT\", :][\"CATEGORY\"].value_counts()\n",
    "dt_arrest_counts.head()"
   ]
  },
  {
   "cell_type": "code",
   "execution_count": 17,
   "metadata": {},
   "outputs": [
    {
     "data": {
      "text/plain": [
       "CATEGORY\n",
       "DUI                  17\n",
       "Domestic violence     7\n",
       "Gun                   6\n",
       "Drugs                 5\n",
       "Assault               5\n",
       "Name: count, dtype: int64"
      ]
     },
     "execution_count": 17,
     "metadata": {},
     "output_type": "execute_result"
    }
   ],
   "source": [
    "#Categories for S arrests\n",
    "saf_arrest_counts = arrest_data.loc[arrest_data[\"POSITION\"] == \"S\", :][\"CATEGORY\"].value_counts()\n",
    "saf_arrest_counts.head()"
   ]
  },
  {
   "cell_type": "code",
   "execution_count": 18,
   "metadata": {},
   "outputs": [
    {
     "data": {
      "text/plain": [
       "CATEGORY\n",
       "DUI                              116\n",
       "Drugs                             52\n",
       "Domestic violence                 47\n",
       "Assault                           38\n",
       "Disorderly conduct                19\n",
       "                                ... \n",
       "Stalking                           1\n",
       "DUI, assault                       1\n",
       "License, guns                      1\n",
       "Guns, drugs, reckless driving      1\n",
       "Murder                             1\n",
       "Name: count, Length: 83, dtype: int64"
      ]
     },
     "execution_count": 18,
     "metadata": {},
     "output_type": "execute_result"
    }
   ],
   "source": [
    "defense_arrest_counts = arrest_data[arrest_data[\"POSITION\"].isin(defense_pos)==True][\"CATEGORY\"].value_counts()\n",
    "defense_arrest_counts"
   ]
  },
  {
   "cell_type": "code",
   "execution_count": 19,
   "metadata": {},
   "outputs": [
    {
     "data": {
      "text/plain": [
       "CATEGORY\n",
       "DUI                    94\n",
       "Drugs                  46\n",
       "Domestic violence      46\n",
       "Assault                32\n",
       "Disorderly conduct     23\n",
       "                       ..\n",
       "DUI, manslaughter       1\n",
       "Domestic dispute        1\n",
       "Guns, drugs             1\n",
       "Probation violation     1\n",
       "Sexual assault          1\n",
       "Name: count, Length: 63, dtype: int64"
      ]
     },
     "execution_count": 19,
     "metadata": {},
     "output_type": "execute_result"
    }
   ],
   "source": [
    "offense_arrest_counts = arrest_data[arrest_data[\"POSITION\"].isin(offense_pos)==True][\"CATEGORY\"].value_counts()\n",
    "offense_arrest_counts"
   ]
  },
  {
   "cell_type": "code",
   "execution_count": 20,
   "metadata": {},
   "outputs": [
    {
     "data": {
      "text/plain": [
       "CATEGORY\n",
       "DUI                      5\n",
       "Alcohol                  2\n",
       "Violating court order    1\n",
       "Domestic violence        1\n",
       "Disorderly conduct       1\n",
       "Alcohol, assault         1\n",
       "Battery                  1\n",
       "Assault, alcohol         1\n",
       "Assault                  1\n",
       "Drugs                    1\n",
       "Name: count, dtype: int64"
      ]
     },
     "execution_count": 20,
     "metadata": {},
     "output_type": "execute_result"
    }
   ],
   "source": [
    "sp_tm_arrest_counts = arrest_data[arrest_data[\"POSITION\"].isin(sp_teams_pos)==True][\"CATEGORY\"].value_counts()\n",
    "sp_tm_arrest_counts"
   ]
  },
  {
   "cell_type": "code",
   "execution_count": 21,
   "metadata": {},
   "outputs": [
    {
     "data": {
      "text/plain": [
       "POSITION\n",
       "WR    37\n",
       "CB    34\n",
       "LB    25\n",
       "DE    22\n",
       "S     17\n",
       "Name: count, dtype: int64"
      ]
     },
     "execution_count": 21,
     "metadata": {},
     "output_type": "execute_result"
    }
   ],
   "source": [
    "dui_by_position = arrest_data.loc[arrest_data[\"CATEGORY\"] == \"DUI\", :][\"POSITION\"].value_counts()\n",
    "dui_by_position.head()"
   ]
  },
  {
   "cell_type": "code",
   "execution_count": 22,
   "metadata": {},
   "outputs": [
    {
     "data": {
      "text/plain": [
       "POSITION\n",
       "RB    16\n",
       "LB    13\n",
       "WR    10\n",
       "OT    10\n",
       "DT     9\n",
       "Name: count, dtype: int64"
      ]
     },
     "execution_count": 22,
     "metadata": {},
     "output_type": "execute_result"
    }
   ],
   "source": [
    "dv_by_position = arrest_data.loc[arrest_data[\"CATEGORY\"] == \"Domestic violence\", :][\"POSITION\"].value_counts()\n",
    "dv_by_position.head()"
   ]
  },
  {
   "cell_type": "code",
   "execution_count": 23,
   "metadata": {},
   "outputs": [
    {
     "data": {
      "text/plain": [
       "POSITION\n",
       "WR    17\n",
       "RB    15\n",
       "CB    14\n",
       "DE    13\n",
       "DT    11\n",
       "Name: count, dtype: int64"
      ]
     },
     "execution_count": 23,
     "metadata": {},
     "output_type": "execute_result"
    }
   ],
   "source": [
    "drugpos_by_position = arrest_data.loc[arrest_data[\"CATEGORY\"] == \"Drugs\", :][\"POSITION\"].value_counts()\n",
    "drugpos_by_position.head()"
   ]
  },
  {
   "cell_type": "code",
   "execution_count": 24,
   "metadata": {},
   "outputs": [
    {
     "data": {
      "text/plain": [
       "POSITION\n",
       "LB    14\n",
       "CB    12\n",
       "WR    12\n",
       "RB     7\n",
       "S      5\n",
       "Name: count, dtype: int64"
      ]
     },
     "execution_count": 24,
     "metadata": {},
     "output_type": "execute_result"
    }
   ],
   "source": [
    "assault_by_position = arrest_data.loc[arrest_data[\"CATEGORY\"] == \"Assault\", :][\"POSITION\"].value_counts()\n",
    "assault_by_position.head()"
   ]
  },
  {
   "cell_type": "code",
   "execution_count": 25,
   "metadata": {},
   "outputs": [
    {
     "data": {
      "text/plain": [
       "POSITION\n",
       "WR    8\n",
       "CB    7\n",
       "OT    6\n",
       "DT    5\n",
       "RB    5\n",
       "Name: count, dtype: int64"
      ]
     },
     "execution_count": 25,
     "metadata": {},
     "output_type": "execute_result"
    }
   ],
   "source": [
    "dc_by_position = arrest_data.loc[arrest_data[\"CATEGORY\"] == \"Disorderly conduct\", :][\"POSITION\"].value_counts()\n",
    "dc_by_position.head()"
   ]
  },
  {
   "cell_type": "code",
   "execution_count": 26,
   "metadata": {},
   "outputs": [
    {
     "data": {
      "text/plain": [
       "YEAR\n",
       "2006    71\n",
       "2008    68\n",
       "2007    63\n",
       "2013    62\n",
       "2010    54\n",
       "2009    52\n",
       "2014    51\n",
       "2011    48\n",
       "2005    48\n",
       "2012    47\n",
       "2001    44\n",
       "2003    43\n",
       "2002    43\n",
       "2015    40\n",
       "2000    39\n",
       "2004    39\n",
       "2016    26\n",
       "2017    12\n",
       "Name: count, dtype: int64"
      ]
     },
     "execution_count": 26,
     "metadata": {},
     "output_type": "execute_result"
    }
   ],
   "source": [
    "arrests_each_year = arrest_data[\"YEAR\"].value_counts()\n",
    "arrests_each_year"
   ]
  },
  {
   "cell_type": "code",
   "execution_count": 27,
   "metadata": {},
   "outputs": [
    {
     "data": {
      "text/plain": [
       "YEAR\n",
       "2006    19\n",
       "2012    17\n",
       "2010    17\n",
       "2008    16\n",
       "2004    16\n",
       "2013    15\n",
       "2002    14\n",
       "2003    14\n",
       "2007    12\n",
       "2009    11\n",
       "2005    11\n",
       "2001    10\n",
       "2016     9\n",
       "2014     9\n",
       "2000     9\n",
       "2015     8\n",
       "2011     8\n",
       "Name: count, dtype: int64"
      ]
     },
     "execution_count": 27,
     "metadata": {},
     "output_type": "execute_result"
    }
   ],
   "source": [
    "dui_by_year = arrest_data.loc[arrest_data[\"CATEGORY\"] == \"DUI\", :][\"YEAR\"].value_counts()\n",
    "dui_by_year"
   ]
  },
  {
   "cell_type": "code",
   "execution_count": 28,
   "metadata": {},
   "outputs": [
    {
     "data": {
      "text/plain": [
       "YEAR\n",
       "2008    14\n",
       "2012    10\n",
       "2014     9\n",
       "2011     8\n",
       "2013     7\n",
       "2007     7\n",
       "2006     6\n",
       "2015     6\n",
       "2001     5\n",
       "2016     5\n",
       "2003     4\n",
       "2017     4\n",
       "2009     4\n",
       "2000     4\n",
       "2004     2\n",
       "2010     2\n",
       "2005     1\n",
       "2002     1\n",
       "Name: count, dtype: int64"
      ]
     },
     "execution_count": 28,
     "metadata": {},
     "output_type": "execute_result"
    }
   ],
   "source": [
    "drugpos_by_year = arrest_data.loc[arrest_data[\"CATEGORY\"] == \"Drugs\", :][\"YEAR\"].value_counts()\n",
    "drugpos_by_year"
   ]
  },
  {
   "cell_type": "code",
   "execution_count": 29,
   "metadata": {},
   "outputs": [
    {
     "data": {
      "text/plain": [
       "YEAR\n",
       "2008    10\n",
       "2005    10\n",
       "2006    10\n",
       "2001     8\n",
       "2015     7\n",
       "2013     7\n",
       "2007     6\n",
       "2010     6\n",
       "2000     5\n",
       "2009     5\n",
       "2014     5\n",
       "2003     4\n",
       "2002     4\n",
       "2011     3\n",
       "2012     3\n",
       "2004     3\n",
       "2016     2\n",
       "2017     1\n",
       "Name: count, dtype: int64"
      ]
     },
     "execution_count": 29,
     "metadata": {},
     "output_type": "execute_result"
    }
   ],
   "source": [
    "dv_by_year = arrest_data.loc[arrest_data['CATEGORY'].isin(domestic_violence_terms)][\"YEAR\"].value_counts()\n",
    "dv_by_year"
   ]
  },
  {
   "cell_type": "code",
   "execution_count": 30,
   "metadata": {},
   "outputs": [
    {
     "data": {
      "text/plain": [
       "YEAR\n",
       "2008    7\n",
       "2011    7\n",
       "2009    7\n",
       "2007    6\n",
       "2006    6\n",
       "2004    5\n",
       "2014    5\n",
       "2001    4\n",
       "2010    4\n",
       "2013    3\n",
       "2002    3\n",
       "2016    3\n",
       "2003    2\n",
       "2017    2\n",
       "2012    2\n",
       "2015    2\n",
       "2000    2\n",
       "2005    1\n",
       "Name: count, dtype: int64"
      ]
     },
     "execution_count": 30,
     "metadata": {},
     "output_type": "execute_result"
    }
   ],
   "source": [
    "assault_by_year = arrest_data.loc[arrest_data[\"CATEGORY\"] == \"Assault\", :][\"YEAR\"].value_counts()\n",
    "assault_by_year"
   ]
  },
  {
   "cell_type": "code",
   "execution_count": 31,
   "metadata": {},
   "outputs": [
    {
     "data": {
      "text/plain": [
       "YEAR\n",
       "2006    5\n",
       "2007    4\n",
       "2003    4\n",
       "2001    4\n",
       "2014    3\n",
       "2010    3\n",
       "2009    3\n",
       "2008    3\n",
       "2005    3\n",
       "2000    3\n",
       "2013    2\n",
       "2012    2\n",
       "2004    2\n",
       "2017    1\n",
       "2011    1\n",
       "Name: count, dtype: int64"
      ]
     },
     "execution_count": 31,
     "metadata": {},
     "output_type": "execute_result"
    }
   ],
   "source": [
    "disorderly_conduct_by_year = arrest_data.loc[arrest_data[\"CATEGORY\"] == \"Disorderly conduct\", :][\"YEAR\"].value_counts()\n",
    "disorderly_conduct_by_year"
   ]
  },
  {
   "cell_type": "code",
   "execution_count": 32,
   "metadata": {},
   "outputs": [
    {
     "data": {
      "text/html": [
       "<div>\n",
       "<style scoped>\n",
       "    .dataframe tbody tr th:only-of-type {\n",
       "        vertical-align: middle;\n",
       "    }\n",
       "\n",
       "    .dataframe tbody tr th {\n",
       "        vertical-align: top;\n",
       "    }\n",
       "\n",
       "    .dataframe thead th {\n",
       "        text-align: right;\n",
       "    }\n",
       "</style>\n",
       "<table border=\"1\" class=\"dataframe\">\n",
       "  <thead>\n",
       "    <tr style=\"text-align: right;\">\n",
       "      <th></th>\n",
       "      <th>DATE</th>\n",
       "      <th>TEAM</th>\n",
       "      <th>NAME</th>\n",
       "      <th>POSITION</th>\n",
       "      <th>CASE</th>\n",
       "      <th>CATEGORY</th>\n",
       "      <th>DESCRIPTION</th>\n",
       "      <th>OUTCOME</th>\n",
       "      <th>YEAR</th>\n",
       "      <th>RELEASED</th>\n",
       "    </tr>\n",
       "  </thead>\n",
       "  <tbody>\n",
       "    <tr>\n",
       "      <th>0</th>\n",
       "      <td>3/27/2017</td>\n",
       "      <td>SEA</td>\n",
       "      <td>Trevone Boykin</td>\n",
       "      <td>QB</td>\n",
       "      <td>Arrested</td>\n",
       "      <td>Drugs</td>\n",
       "      <td>Accused of marijuana possession, public intoxi...</td>\n",
       "      <td>Resolution undetermined.</td>\n",
       "      <td>2017</td>\n",
       "      <td>no</td>\n",
       "    </tr>\n",
       "    <tr>\n",
       "      <th>1</th>\n",
       "      <td>3/26/2017</td>\n",
       "      <td>CHI</td>\n",
       "      <td>Deiondre Hall</td>\n",
       "      <td>CB</td>\n",
       "      <td>Arrested</td>\n",
       "      <td>Disorderly conduct</td>\n",
       "      <td>Accused of disorderly conduct, public intoxica...</td>\n",
       "      <td>Resolution undetermined.</td>\n",
       "      <td>2017</td>\n",
       "      <td>no</td>\n",
       "    </tr>\n",
       "    <tr>\n",
       "      <th>2</th>\n",
       "      <td>3/26/2017</td>\n",
       "      <td>GB</td>\n",
       "      <td>Makinton Dorleant</td>\n",
       "      <td>CB</td>\n",
       "      <td>Arrested</td>\n",
       "      <td>Police interference</td>\n",
       "      <td>Accused of interfence after scuffle outside of...</td>\n",
       "      <td>Resolution undetermined.</td>\n",
       "      <td>2017</td>\n",
       "      <td>no</td>\n",
       "    </tr>\n",
       "    <tr>\n",
       "      <th>3</th>\n",
       "      <td>3/7/2017</td>\n",
       "      <td>KC</td>\n",
       "      <td>Demetrius Harris</td>\n",
       "      <td>TE</td>\n",
       "      <td>Arrested</td>\n",
       "      <td>Drugs</td>\n",
       "      <td>Suspected of felony marijuana possession as pa...</td>\n",
       "      <td>Resolution undetermined.</td>\n",
       "      <td>2017</td>\n",
       "      <td>no</td>\n",
       "    </tr>\n",
       "    <tr>\n",
       "      <th>4</th>\n",
       "      <td>3/5/2017</td>\n",
       "      <td>LAR</td>\n",
       "      <td>Ethan Westbrooks</td>\n",
       "      <td>DT</td>\n",
       "      <td>Arrested</td>\n",
       "      <td>Domestic violence</td>\n",
       "      <td>Suspected of domestic violence in Sacramento a...</td>\n",
       "      <td>Resolution undetermined.</td>\n",
       "      <td>2017</td>\n",
       "      <td>no</td>\n",
       "    </tr>\n",
       "    <tr>\n",
       "      <th>...</th>\n",
       "      <td>...</td>\n",
       "      <td>...</td>\n",
       "      <td>...</td>\n",
       "      <td>...</td>\n",
       "      <td>...</td>\n",
       "      <td>...</td>\n",
       "      <td>...</td>\n",
       "      <td>...</td>\n",
       "      <td>...</td>\n",
       "      <td>...</td>\n",
       "    </tr>\n",
       "    <tr>\n",
       "      <th>845</th>\n",
       "      <td>2/6/2000</td>\n",
       "      <td>NYJ</td>\n",
       "      <td>Wayne Chrebet</td>\n",
       "      <td>WR</td>\n",
       "      <td>Arrested</td>\n",
       "      <td>Disorderly conduct</td>\n",
       "      <td>Accused of disorderly conduct in altercation o...</td>\n",
       "      <td>Pleaded guilty to nuisance violation, fined $230.</td>\n",
       "      <td>2000</td>\n",
       "      <td>no</td>\n",
       "    </tr>\n",
       "    <tr>\n",
       "      <th>846</th>\n",
       "      <td>2/5/2000</td>\n",
       "      <td>CIN</td>\n",
       "      <td>Steve Foley</td>\n",
       "      <td>LB</td>\n",
       "      <td>Arrested</td>\n",
       "      <td>Domestic violence</td>\n",
       "      <td>Accused of kicking in the door of his son's mo...</td>\n",
       "      <td>Charge dropped after woman declined to cooperate.</td>\n",
       "      <td>2000</td>\n",
       "      <td>no</td>\n",
       "    </tr>\n",
       "    <tr>\n",
       "      <th>847</th>\n",
       "      <td>2/3/2000</td>\n",
       "      <td>CAR</td>\n",
       "      <td>Fred Lane</td>\n",
       "      <td>RB</td>\n",
       "      <td>Arrested</td>\n",
       "      <td>Drugs, gun</td>\n",
       "      <td>Police pulled him over in Jackson, Tenn., for ...</td>\n",
       "      <td>Indicted but shot and killed by his wife in Ju...</td>\n",
       "      <td>2000</td>\n",
       "      <td>no</td>\n",
       "    </tr>\n",
       "    <tr>\n",
       "      <th>848</th>\n",
       "      <td>1/31/2000</td>\n",
       "      <td>BAL</td>\n",
       "      <td>Ray Lewis</td>\n",
       "      <td>LB</td>\n",
       "      <td>Charged</td>\n",
       "      <td>Murder</td>\n",
       "      <td>Accused of murder in the stabbing deaths of tw...</td>\n",
       "      <td>Pleaded guilty to obstruction of justice, one ...</td>\n",
       "      <td>2000</td>\n",
       "      <td>no</td>\n",
       "    </tr>\n",
       "    <tr>\n",
       "      <th>849</th>\n",
       "      <td>1/24/2000</td>\n",
       "      <td>DEN</td>\n",
       "      <td>Rod Smith</td>\n",
       "      <td>WR</td>\n",
       "      <td>Arrested</td>\n",
       "      <td>Domestic violence</td>\n",
       "      <td>Accused of choking, beating and shoving his co...</td>\n",
       "      <td>Pleaded guilty to misdemeanor count of verbal ...</td>\n",
       "      <td>2000</td>\n",
       "      <td>no</td>\n",
       "    </tr>\n",
       "  </tbody>\n",
       "</table>\n",
       "<p>850 rows × 10 columns</p>\n",
       "</div>"
      ],
      "text/plain": [
       "          DATE TEAM               NAME POSITION      CASE  \\\n",
       "0    3/27/2017  SEA     Trevone Boykin       QB  Arrested   \n",
       "1    3/26/2017  CHI      Deiondre Hall       CB  Arrested   \n",
       "2    3/26/2017   GB  Makinton Dorleant       CB  Arrested   \n",
       "3     3/7/2017   KC   Demetrius Harris       TE  Arrested   \n",
       "4     3/5/2017  LAR   Ethan Westbrooks       DT  Arrested   \n",
       "..         ...  ...                ...      ...       ...   \n",
       "845   2/6/2000  NYJ      Wayne Chrebet       WR  Arrested   \n",
       "846   2/5/2000  CIN        Steve Foley       LB  Arrested   \n",
       "847   2/3/2000  CAR          Fred Lane       RB  Arrested   \n",
       "848  1/31/2000  BAL          Ray Lewis       LB   Charged   \n",
       "849  1/24/2000  DEN          Rod Smith       WR  Arrested   \n",
       "\n",
       "                CATEGORY                                        DESCRIPTION  \\\n",
       "0                  Drugs  Accused of marijuana possession, public intoxi...   \n",
       "1     Disorderly conduct  Accused of disorderly conduct, public intoxica...   \n",
       "2    Police interference  Accused of interfence after scuffle outside of...   \n",
       "3                  Drugs  Suspected of felony marijuana possession as pa...   \n",
       "4      Domestic violence  Suspected of domestic violence in Sacramento a...   \n",
       "..                   ...                                                ...   \n",
       "845   Disorderly conduct  Accused of disorderly conduct in altercation o...   \n",
       "846    Domestic violence  Accused of kicking in the door of his son's mo...   \n",
       "847           Drugs, gun  Police pulled him over in Jackson, Tenn., for ...   \n",
       "848               Murder  Accused of murder in the stabbing deaths of tw...   \n",
       "849    Domestic violence  Accused of choking, beating and shoving his co...   \n",
       "\n",
       "                                               OUTCOME  YEAR RELEASED  \n",
       "0                             Resolution undetermined.  2017       no  \n",
       "1                             Resolution undetermined.  2017       no  \n",
       "2                             Resolution undetermined.  2017       no  \n",
       "3                             Resolution undetermined.  2017       no  \n",
       "4                             Resolution undetermined.  2017       no  \n",
       "..                                                 ...   ...      ...  \n",
       "845  Pleaded guilty to nuisance violation, fined $230.  2000       no  \n",
       "846  Charge dropped after woman declined to cooperate.  2000       no  \n",
       "847  Indicted but shot and killed by his wife in Ju...  2000       no  \n",
       "848  Pleaded guilty to obstruction of justice, one ...  2000       no  \n",
       "849  Pleaded guilty to misdemeanor count of verbal ...  2000       no  \n",
       "\n",
       "[850 rows x 10 columns]"
      ]
     },
     "execution_count": 32,
     "metadata": {},
     "output_type": "execute_result"
    }
   ],
   "source": [
    "arrest_data[\"RELEASED\"] = np.where((arrest_data['OUTCOME'].str.find('eam released') != -1) | \n",
    "                                   (arrest_data['OUTCOME'].str.find('eleased from team') != -1) | \n",
    "                                   (arrest_data['OUTCOME'].str.find('ut by team') != -1) | \n",
    "                                   (arrest_data['OUTCOME'].str.find('eleased by team') != -1) | \n",
    "                                   (arrest_data['OUTCOME'].str.find('eam cut') != -1), 'yes', 'no')\n",
    "\n",
    "arrest_data        "
   ]
  },
  {
   "cell_type": "code",
   "execution_count": 33,
   "metadata": {},
   "outputs": [
    {
     "data": {
      "text/plain": [
       "YEAR\n",
       "2013    12\n",
       "2015    10\n",
       "2009     9\n",
       "2016     8\n",
       "2008     8\n",
       "2007     8\n",
       "2014     6\n",
       "2003     5\n",
       "2001     5\n",
       "2012     4\n",
       "2004     4\n",
       "2006     3\n",
       "2010     2\n",
       "2005     2\n",
       "2002     2\n",
       "2000     2\n",
       "Name: count, dtype: int64"
      ]
     },
     "execution_count": 33,
     "metadata": {},
     "output_type": "execute_result"
    }
   ],
   "source": [
    "arrest_data[arrest_data['RELEASED'] == 'yes']['YEAR'].value_counts()"
   ]
  },
  {
   "cell_type": "code",
   "execution_count": 34,
   "metadata": {},
   "outputs": [
    {
     "data": {
      "text/plain": [
       "POSITION\n",
       "WR    14\n",
       "LB    14\n",
       "CB    12\n",
       "DT     9\n",
       "TE     8\n",
       "RB     7\n",
       "S      7\n",
       "OG     5\n",
       "DE     4\n",
       "OT     4\n",
       "FB     3\n",
       "QB     2\n",
       "DB     1\n",
       "Name: count, dtype: int64"
      ]
     },
     "execution_count": 34,
     "metadata": {},
     "output_type": "execute_result"
    }
   ],
   "source": [
    "arrest_data[arrest_data['RELEASED'] == 'yes']['POSITION'].value_counts()"
   ]
  },
  {
   "cell_type": "code",
   "execution_count": 35,
   "metadata": {},
   "outputs": [
    {
     "data": {
      "text/html": [
       "<div>\n",
       "<style scoped>\n",
       "    .dataframe tbody tr th:only-of-type {\n",
       "        vertical-align: middle;\n",
       "    }\n",
       "\n",
       "    .dataframe tbody tr th {\n",
       "        vertical-align: top;\n",
       "    }\n",
       "\n",
       "    .dataframe thead th {\n",
       "        text-align: right;\n",
       "    }\n",
       "</style>\n",
       "<table border=\"1\" class=\"dataframe\">\n",
       "  <thead>\n",
       "    <tr style=\"text-align: right;\">\n",
       "      <th></th>\n",
       "      <th>DATE</th>\n",
       "      <th>TEAM</th>\n",
       "      <th>NAME</th>\n",
       "      <th>POSITION</th>\n",
       "      <th>CASE</th>\n",
       "      <th>CATEGORY</th>\n",
       "      <th>DESCRIPTION</th>\n",
       "      <th>OUTCOME</th>\n",
       "      <th>YEAR</th>\n",
       "      <th>RELEASED</th>\n",
       "    </tr>\n",
       "  </thead>\n",
       "  <tbody>\n",
       "    <tr>\n",
       "      <th>4</th>\n",
       "      <td>3/5/2017</td>\n",
       "      <td>LAR</td>\n",
       "      <td>Ethan Westbrooks</td>\n",
       "      <td>DT</td>\n",
       "      <td>Arrested</td>\n",
       "      <td>Domestic violence</td>\n",
       "      <td>Suspected of domestic violence in Sacramento a...</td>\n",
       "      <td>Resolution undetermined.</td>\n",
       "      <td>2017</td>\n",
       "      <td>no</td>\n",
       "    </tr>\n",
       "    <tr>\n",
       "      <th>35</th>\n",
       "      <td>2/5/2016</td>\n",
       "      <td>NE</td>\n",
       "      <td>Montee Ball</td>\n",
       "      <td>RB</td>\n",
       "      <td>Charged</td>\n",
       "      <td>Domestic violence</td>\n",
       "      <td>Accused of disorderly conduct and battery afte...</td>\n",
       "      <td>Pleaded guilty to two charges, 60 days in jail...</td>\n",
       "      <td>2016</td>\n",
       "      <td>yes</td>\n",
       "    </tr>\n",
       "    <tr>\n",
       "      <th>36</th>\n",
       "      <td>1/30/2016</td>\n",
       "      <td>CLE</td>\n",
       "      <td>Johnny Manziel</td>\n",
       "      <td>QB</td>\n",
       "      <td>Indicted</td>\n",
       "      <td>Domestic violence</td>\n",
       "      <td>Former girlfriend accused him of striking her ...</td>\n",
       "      <td>Diversion program, anger counseling. Team rele...</td>\n",
       "      <td>2016</td>\n",
       "      <td>yes</td>\n",
       "    </tr>\n",
       "    <tr>\n",
       "      <th>46</th>\n",
       "      <td>7/20/2015</td>\n",
       "      <td>KC</td>\n",
       "      <td>Justin Cox</td>\n",
       "      <td>DB</td>\n",
       "      <td>Arrested</td>\n",
       "      <td>Domestic violence</td>\n",
       "      <td>Accused of domestic violence, trespassing and ...</td>\n",
       "      <td>Resolution undetermined. Released by team the ...</td>\n",
       "      <td>2015</td>\n",
       "      <td>yes</td>\n",
       "    </tr>\n",
       "    <tr>\n",
       "      <th>54</th>\n",
       "      <td>5/25/2015</td>\n",
       "      <td>CHI</td>\n",
       "      <td>Ray McDonald</td>\n",
       "      <td>DT</td>\n",
       "      <td>Arrested</td>\n",
       "      <td>Domestic violence</td>\n",
       "      <td>Accused of assaulting a woman while she was ho...</td>\n",
       "      <td>Resolution undetermined. Released by team the ...</td>\n",
       "      <td>2015</td>\n",
       "      <td>yes</td>\n",
       "    </tr>\n",
       "    <tr>\n",
       "      <th>...</th>\n",
       "      <td>...</td>\n",
       "      <td>...</td>\n",
       "      <td>...</td>\n",
       "      <td>...</td>\n",
       "      <td>...</td>\n",
       "      <td>...</td>\n",
       "      <td>...</td>\n",
       "      <td>...</td>\n",
       "      <td>...</td>\n",
       "      <td>...</td>\n",
       "    </tr>\n",
       "    <tr>\n",
       "      <th>815</th>\n",
       "      <td>9/20/2000</td>\n",
       "      <td>WAS</td>\n",
       "      <td>Dana Stubblefield</td>\n",
       "      <td>DT</td>\n",
       "      <td>Arrested</td>\n",
       "      <td>Domestic violence</td>\n",
       "      <td>Accused of assaulting his wife at their homoe ...</td>\n",
       "      <td>Charge dropped.</td>\n",
       "      <td>2000</td>\n",
       "      <td>no</td>\n",
       "    </tr>\n",
       "    <tr>\n",
       "      <th>818</th>\n",
       "      <td>8/26/2000</td>\n",
       "      <td>CIN</td>\n",
       "      <td>Corey Dillon</td>\n",
       "      <td>RB</td>\n",
       "      <td>Arrested</td>\n",
       "      <td>Domestic violence</td>\n",
       "      <td>Accused of striking his wife in Washington, fo...</td>\n",
       "      <td>Diversion program, $750 donation to women's sh...</td>\n",
       "      <td>2000</td>\n",
       "      <td>no</td>\n",
       "    </tr>\n",
       "    <tr>\n",
       "      <th>839</th>\n",
       "      <td>3/14/2000</td>\n",
       "      <td>ARI</td>\n",
       "      <td>Mario Bates</td>\n",
       "      <td>RB</td>\n",
       "      <td>Arrested</td>\n",
       "      <td>Domestic violence</td>\n",
       "      <td>Accused of slapping his girlfriend in the face...</td>\n",
       "      <td>Pleaded guilty, $364 fine, two years of probat...</td>\n",
       "      <td>2000</td>\n",
       "      <td>no</td>\n",
       "    </tr>\n",
       "    <tr>\n",
       "      <th>846</th>\n",
       "      <td>2/5/2000</td>\n",
       "      <td>CIN</td>\n",
       "      <td>Steve Foley</td>\n",
       "      <td>LB</td>\n",
       "      <td>Arrested</td>\n",
       "      <td>Domestic violence</td>\n",
       "      <td>Accused of kicking in the door of his son's mo...</td>\n",
       "      <td>Charge dropped after woman declined to cooperate.</td>\n",
       "      <td>2000</td>\n",
       "      <td>no</td>\n",
       "    </tr>\n",
       "    <tr>\n",
       "      <th>849</th>\n",
       "      <td>1/24/2000</td>\n",
       "      <td>DEN</td>\n",
       "      <td>Rod Smith</td>\n",
       "      <td>WR</td>\n",
       "      <td>Arrested</td>\n",
       "      <td>Domestic violence</td>\n",
       "      <td>Accused of choking, beating and shoving his co...</td>\n",
       "      <td>Pleaded guilty to misdemeanor count of verbal ...</td>\n",
       "      <td>2000</td>\n",
       "      <td>no</td>\n",
       "    </tr>\n",
       "  </tbody>\n",
       "</table>\n",
       "<p>99 rows × 10 columns</p>\n",
       "</div>"
      ],
      "text/plain": [
       "          DATE TEAM               NAME POSITION      CASE           CATEGORY  \\\n",
       "4     3/5/2017  LAR   Ethan Westbrooks       DT  Arrested  Domestic violence   \n",
       "35    2/5/2016   NE        Montee Ball       RB   Charged  Domestic violence   \n",
       "36   1/30/2016  CLE     Johnny Manziel       QB  Indicted  Domestic violence   \n",
       "46   7/20/2015   KC         Justin Cox       DB  Arrested  Domestic violence   \n",
       "54   5/25/2015  CHI       Ray McDonald       DT  Arrested  Domestic violence   \n",
       "..         ...  ...                ...      ...       ...                ...   \n",
       "815  9/20/2000  WAS  Dana Stubblefield       DT  Arrested  Domestic violence   \n",
       "818  8/26/2000  CIN       Corey Dillon       RB  Arrested  Domestic violence   \n",
       "839  3/14/2000  ARI        Mario Bates       RB  Arrested  Domestic violence   \n",
       "846   2/5/2000  CIN        Steve Foley       LB  Arrested  Domestic violence   \n",
       "849  1/24/2000  DEN          Rod Smith       WR  Arrested  Domestic violence   \n",
       "\n",
       "                                           DESCRIPTION  \\\n",
       "4    Suspected of domestic violence in Sacramento a...   \n",
       "35   Accused of disorderly conduct and battery afte...   \n",
       "36   Former girlfriend accused him of striking her ...   \n",
       "46   Accused of domestic violence, trespassing and ...   \n",
       "54   Accused of assaulting a woman while she was ho...   \n",
       "..                                                 ...   \n",
       "815  Accused of assaulting his wife at their homoe ...   \n",
       "818  Accused of striking his wife in Washington, fo...   \n",
       "839  Accused of slapping his girlfriend in the face...   \n",
       "846  Accused of kicking in the door of his son's mo...   \n",
       "849  Accused of choking, beating and shoving his co...   \n",
       "\n",
       "                                               OUTCOME  YEAR RELEASED  \n",
       "4                             Resolution undetermined.  2017       no  \n",
       "35   Pleaded guilty to two charges, 60 days in jail...  2016      yes  \n",
       "36   Diversion program, anger counseling. Team rele...  2016      yes  \n",
       "46   Resolution undetermined. Released by team the ...  2015      yes  \n",
       "54   Resolution undetermined. Released by team the ...  2015      yes  \n",
       "..                                                 ...   ...      ...  \n",
       "815                                    Charge dropped.  2000       no  \n",
       "818  Diversion program, $750 donation to women's sh...  2000       no  \n",
       "839  Pleaded guilty, $364 fine, two years of probat...  2000       no  \n",
       "846  Charge dropped after woman declined to cooperate.  2000       no  \n",
       "849  Pleaded guilty to misdemeanor count of verbal ...  2000       no  \n",
       "\n",
       "[99 rows x 10 columns]"
      ]
     },
     "execution_count": 35,
     "metadata": {},
     "output_type": "execute_result"
    }
   ],
   "source": [
    "dv_data = arrest_data.loc[arrest_data['CATEGORY'].isin(domestic_violence_terms)==True]\n",
    "duplicateRows = dv_data[dv_data.duplicated(['NAME'])]\n",
    "dupeNames = duplicateRows['NAME']\n",
    "\n",
    "dv_data"
   ]
  },
  {
   "cell_type": "code",
   "execution_count": 36,
   "metadata": {},
   "outputs": [
    {
     "data": {
      "text/html": [
       "<div>\n",
       "<style scoped>\n",
       "    .dataframe tbody tr th:only-of-type {\n",
       "        vertical-align: middle;\n",
       "    }\n",
       "\n",
       "    .dataframe tbody tr th {\n",
       "        vertical-align: top;\n",
       "    }\n",
       "\n",
       "    .dataframe thead th {\n",
       "        text-align: right;\n",
       "    }\n",
       "</style>\n",
       "<table border=\"1\" class=\"dataframe\">\n",
       "  <thead>\n",
       "    <tr style=\"text-align: right;\">\n",
       "      <th></th>\n",
       "      <th>DATE</th>\n",
       "      <th>TEAM</th>\n",
       "      <th>NAME</th>\n",
       "      <th>POSITION</th>\n",
       "      <th>CASE</th>\n",
       "      <th>CATEGORY</th>\n",
       "      <th>DESCRIPTION</th>\n",
       "      <th>OUTCOME</th>\n",
       "      <th>YEAR</th>\n",
       "      <th>RELEASED</th>\n",
       "    </tr>\n",
       "  </thead>\n",
       "  <tbody>\n",
       "    <tr>\n",
       "      <th>504</th>\n",
       "      <td>3/26/2007</td>\n",
       "      <td>DEN</td>\n",
       "      <td>Brandon Marshall</td>\n",
       "      <td>WR</td>\n",
       "      <td>Arrested</td>\n",
       "      <td>Domestic violence</td>\n",
       "      <td>Charged with false imprisonment in dispute wit...</td>\n",
       "      <td>Diversion program. Charge dropped if he comple...</td>\n",
       "      <td>2007</td>\n",
       "      <td>no</td>\n",
       "    </tr>\n",
       "    <tr>\n",
       "      <th>442</th>\n",
       "      <td>3/6/2008</td>\n",
       "      <td>DEN</td>\n",
       "      <td>Brandon Marshall</td>\n",
       "      <td>WR</td>\n",
       "      <td>Arrested</td>\n",
       "      <td>Domestic violence</td>\n",
       "      <td>Accused of hitting his girlfriend on March 4, ...</td>\n",
       "      <td>Acquitted. NFL suspended him one game.</td>\n",
       "      <td>2008</td>\n",
       "      <td>no</td>\n",
       "    </tr>\n",
       "    <tr>\n",
       "      <th>807</th>\n",
       "      <td>3/2/2001</td>\n",
       "      <td>DEN</td>\n",
       "      <td>Dwayne Carswell</td>\n",
       "      <td>TE</td>\n",
       "      <td>Arrested</td>\n",
       "      <td>Domestic violence</td>\n",
       "      <td>Accused of pulling a woman's hair and bruising...</td>\n",
       "      <td>Diversion program, community service.</td>\n",
       "      <td>2001</td>\n",
       "      <td>no</td>\n",
       "    </tr>\n",
       "    <tr>\n",
       "      <th>704</th>\n",
       "      <td>7/4/2003</td>\n",
       "      <td>DEN</td>\n",
       "      <td>Dwayne Carswell</td>\n",
       "      <td>TE</td>\n",
       "      <td>Arrested</td>\n",
       "      <td>Domestic violence</td>\n",
       "      <td>Accused of choking and biting his girlfriend o...</td>\n",
       "      <td>Pleaded guilty to batter, one year of probatio...</td>\n",
       "      <td>2003</td>\n",
       "      <td>no</td>\n",
       "    </tr>\n",
       "    <tr>\n",
       "      <th>681</th>\n",
       "      <td>12/5/2003</td>\n",
       "      <td>KC</td>\n",
       "      <td>Larry Johnson</td>\n",
       "      <td>RB</td>\n",
       "      <td>Charged</td>\n",
       "      <td>Domestic violence, gun</td>\n",
       "      <td>Accused of brandishing a gun during a dispute ...</td>\n",
       "      <td>Diversion program, 120 hours of community serv...</td>\n",
       "      <td>2003</td>\n",
       "      <td>no</td>\n",
       "    </tr>\n",
       "    <tr>\n",
       "      <th>609</th>\n",
       "      <td>9/12/2005</td>\n",
       "      <td>KC</td>\n",
       "      <td>Larry Johnson</td>\n",
       "      <td>RB</td>\n",
       "      <td>Charged</td>\n",
       "      <td>Domestic violence</td>\n",
       "      <td>Accused of domestic abuse in scuffle with his ...</td>\n",
       "      <td>Charge dropped after woman declined to testify.</td>\n",
       "      <td>2005</td>\n",
       "      <td>no</td>\n",
       "    </tr>\n",
       "    <tr>\n",
       "      <th>323</th>\n",
       "      <td>4/10/2010</td>\n",
       "      <td>SEA</td>\n",
       "      <td>Leroy Hill</td>\n",
       "      <td>LB</td>\n",
       "      <td>Arrested</td>\n",
       "      <td>Domestic violence</td>\n",
       "      <td>Charged with investigation of assault in the f...</td>\n",
       "      <td>Diversion program, 18-month probation, treatme...</td>\n",
       "      <td>2010</td>\n",
       "      <td>no</td>\n",
       "    </tr>\n",
       "    <tr>\n",
       "      <th>185</th>\n",
       "      <td>1/29/2013</td>\n",
       "      <td>SEA</td>\n",
       "      <td>Leroy Hill</td>\n",
       "      <td>LB</td>\n",
       "      <td>Arrested</td>\n",
       "      <td>Domestic violence</td>\n",
       "      <td>Accused of third-degree assault and unlawful i...</td>\n",
       "      <td>Charges dropped for lack of evidence. Not re-s...</td>\n",
       "      <td>2013</td>\n",
       "      <td>no</td>\n",
       "    </tr>\n",
       "    <tr>\n",
       "      <th>794</th>\n",
       "      <td>6/23/2001</td>\n",
       "      <td>ARI</td>\n",
       "      <td>Michael Pittman</td>\n",
       "      <td>RB</td>\n",
       "      <td>Arrested</td>\n",
       "      <td>Domestic violence</td>\n",
       "      <td>Accused of breaking sliding glass door and cri...</td>\n",
       "      <td>Pleaded guilty, three years of probation, five...</td>\n",
       "      <td>2001</td>\n",
       "      <td>no</td>\n",
       "    </tr>\n",
       "    <tr>\n",
       "      <th>797</th>\n",
       "      <td>6/10/2001</td>\n",
       "      <td>ARI</td>\n",
       "      <td>Michael Pittman</td>\n",
       "      <td>RB</td>\n",
       "      <td>Arrested</td>\n",
       "      <td>Domestic violence</td>\n",
       "      <td>Accused of getting into a heated argument with...</td>\n",
       "      <td>Diversion program, anger management.</td>\n",
       "      <td>2001</td>\n",
       "      <td>no</td>\n",
       "    </tr>\n",
       "    <tr>\n",
       "      <th>706</th>\n",
       "      <td>5/31/2003</td>\n",
       "      <td>TB</td>\n",
       "      <td>Michael Pittman</td>\n",
       "      <td>RB</td>\n",
       "      <td>Arrested</td>\n",
       "      <td>Domestic violence</td>\n",
       "      <td>Police said he rammed his Hummer into his wife...</td>\n",
       "      <td>Pleaded guilty to felony endangerment, 14 days...</td>\n",
       "      <td>2003</td>\n",
       "      <td>no</td>\n",
       "    </tr>\n",
       "    <tr>\n",
       "      <th>657</th>\n",
       "      <td>6/29/2004</td>\n",
       "      <td>MIA</td>\n",
       "      <td>Randy McMichael</td>\n",
       "      <td>TE</td>\n",
       "      <td>Arrested</td>\n",
       "      <td>Domestic violence</td>\n",
       "      <td>In Fort Lauderdale, Fla., he was accused of hi...</td>\n",
       "      <td>Charge dropped.</td>\n",
       "      <td>2004</td>\n",
       "      <td>no</td>\n",
       "    </tr>\n",
       "    <tr>\n",
       "      <th>617</th>\n",
       "      <td>7/10/2005</td>\n",
       "      <td>MIA</td>\n",
       "      <td>Randy McMichael</td>\n",
       "      <td>TE</td>\n",
       "      <td>Arrested</td>\n",
       "      <td>Domestic violence, alcohol</td>\n",
       "      <td>Witnesses said he gave his wife a bloody nose ...</td>\n",
       "      <td>Pleaded guilty to criminal trespass, three mon...</td>\n",
       "      <td>2005</td>\n",
       "      <td>no</td>\n",
       "    </tr>\n",
       "    <tr>\n",
       "      <th>90</th>\n",
       "      <td>8/30/2014</td>\n",
       "      <td>SF</td>\n",
       "      <td>Ray McDonald</td>\n",
       "      <td>DE</td>\n",
       "      <td>Arrested</td>\n",
       "      <td>Domestic violence</td>\n",
       "      <td>Suspected of domestic violence against pregnan...</td>\n",
       "      <td>Dropped by prosecutors.</td>\n",
       "      <td>2014</td>\n",
       "      <td>no</td>\n",
       "    </tr>\n",
       "    <tr>\n",
       "      <th>54</th>\n",
       "      <td>5/25/2015</td>\n",
       "      <td>CHI</td>\n",
       "      <td>Ray McDonald</td>\n",
       "      <td>DT</td>\n",
       "      <td>Arrested</td>\n",
       "      <td>Domestic violence</td>\n",
       "      <td>Accused of assaulting a woman while she was ho...</td>\n",
       "      <td>Resolution undetermined. Released by team the ...</td>\n",
       "      <td>2015</td>\n",
       "      <td>yes</td>\n",
       "    </tr>\n",
       "    <tr>\n",
       "      <th>665</th>\n",
       "      <td>6/2/2004</td>\n",
       "      <td>DEN</td>\n",
       "      <td>Sam Brandon</td>\n",
       "      <td>S</td>\n",
       "      <td>Arrested</td>\n",
       "      <td>Domestic violence</td>\n",
       "      <td>Accused of misdemeanor child abuse and crimina...</td>\n",
       "      <td>Charges dropped.</td>\n",
       "      <td>2004</td>\n",
       "      <td>no</td>\n",
       "    </tr>\n",
       "    <tr>\n",
       "      <th>618</th>\n",
       "      <td>7/4/2005</td>\n",
       "      <td>DEN</td>\n",
       "      <td>Sam Brandon</td>\n",
       "      <td>S</td>\n",
       "      <td>Arrested</td>\n",
       "      <td>Domestic violence</td>\n",
       "      <td>Accused of third-degree assault and causing pr...</td>\n",
       "      <td>NFL suspended him two games in 2007.</td>\n",
       "      <td>2005</td>\n",
       "      <td>no</td>\n",
       "    </tr>\n",
       "  </tbody>\n",
       "</table>\n",
       "</div>"
      ],
      "text/plain": [
       "          DATE TEAM              NAME POSITION      CASE  \\\n",
       "504  3/26/2007  DEN  Brandon Marshall       WR  Arrested   \n",
       "442   3/6/2008  DEN  Brandon Marshall       WR  Arrested   \n",
       "807   3/2/2001  DEN   Dwayne Carswell       TE  Arrested   \n",
       "704   7/4/2003  DEN   Dwayne Carswell       TE  Arrested   \n",
       "681  12/5/2003   KC     Larry Johnson       RB   Charged   \n",
       "609  9/12/2005   KC     Larry Johnson       RB   Charged   \n",
       "323  4/10/2010  SEA        Leroy Hill       LB  Arrested   \n",
       "185  1/29/2013  SEA        Leroy Hill       LB  Arrested   \n",
       "794  6/23/2001  ARI   Michael Pittman       RB  Arrested   \n",
       "797  6/10/2001  ARI   Michael Pittman       RB  Arrested   \n",
       "706  5/31/2003   TB   Michael Pittman       RB  Arrested   \n",
       "657  6/29/2004  MIA   Randy McMichael       TE  Arrested   \n",
       "617  7/10/2005  MIA   Randy McMichael       TE  Arrested   \n",
       "90   8/30/2014   SF      Ray McDonald       DE  Arrested   \n",
       "54   5/25/2015  CHI      Ray McDonald       DT  Arrested   \n",
       "665   6/2/2004  DEN       Sam Brandon        S  Arrested   \n",
       "618   7/4/2005  DEN       Sam Brandon        S  Arrested   \n",
       "\n",
       "                       CATEGORY  \\\n",
       "504           Domestic violence   \n",
       "442           Domestic violence   \n",
       "807           Domestic violence   \n",
       "704           Domestic violence   \n",
       "681      Domestic violence, gun   \n",
       "609           Domestic violence   \n",
       "323           Domestic violence   \n",
       "185           Domestic violence   \n",
       "794           Domestic violence   \n",
       "797           Domestic violence   \n",
       "706           Domestic violence   \n",
       "657           Domestic violence   \n",
       "617  Domestic violence, alcohol   \n",
       "90            Domestic violence   \n",
       "54            Domestic violence   \n",
       "665           Domestic violence   \n",
       "618           Domestic violence   \n",
       "\n",
       "                                           DESCRIPTION  \\\n",
       "504  Charged with false imprisonment in dispute wit...   \n",
       "442  Accused of hitting his girlfriend on March 4, ...   \n",
       "807  Accused of pulling a woman's hair and bruising...   \n",
       "704  Accused of choking and biting his girlfriend o...   \n",
       "681  Accused of brandishing a gun during a dispute ...   \n",
       "609  Accused of domestic abuse in scuffle with his ...   \n",
       "323  Charged with investigation of assault in the f...   \n",
       "185  Accused of third-degree assault and unlawful i...   \n",
       "794  Accused of breaking sliding glass door and cri...   \n",
       "797  Accused of getting into a heated argument with...   \n",
       "706  Police said he rammed his Hummer into his wife...   \n",
       "657  In Fort Lauderdale, Fla., he was accused of hi...   \n",
       "617  Witnesses said he gave his wife a bloody nose ...   \n",
       "90   Suspected of domestic violence against pregnan...   \n",
       "54   Accused of assaulting a woman while she was ho...   \n",
       "665  Accused of misdemeanor child abuse and crimina...   \n",
       "618  Accused of third-degree assault and causing pr...   \n",
       "\n",
       "                                               OUTCOME  YEAR RELEASED  \n",
       "504  Diversion program. Charge dropped if he comple...  2007       no  \n",
       "442             Acquitted. NFL suspended him one game.  2008       no  \n",
       "807              Diversion program, community service.  2001       no  \n",
       "704  Pleaded guilty to batter, one year of probatio...  2003       no  \n",
       "681  Diversion program, 120 hours of community serv...  2003       no  \n",
       "609    Charge dropped after woman declined to testify.  2005       no  \n",
       "323  Diversion program, 18-month probation, treatme...  2010       no  \n",
       "185  Charges dropped for lack of evidence. Not re-s...  2013       no  \n",
       "794  Pleaded guilty, three years of probation, five...  2001       no  \n",
       "797               Diversion program, anger management.  2001       no  \n",
       "706  Pleaded guilty to felony endangerment, 14 days...  2003       no  \n",
       "657                                    Charge dropped.  2004       no  \n",
       "617  Pleaded guilty to criminal trespass, three mon...  2005       no  \n",
       "90                             Dropped by prosecutors.  2014       no  \n",
       "54   Resolution undetermined. Released by team the ...  2015      yes  \n",
       "665                                   Charges dropped.  2004       no  \n",
       "618               NFL suspended him two games in 2007.  2005       no  "
      ]
     },
     "execution_count": 36,
     "metadata": {},
     "output_type": "execute_result"
    }
   ],
   "source": [
    "repeatOffenders = dv_data.loc[dv_data['NAME'].isin(dupeNames)==True].sort_values(by=['NAME','YEAR'])\n",
    "repeatOffenders"
   ]
  },
  {
   "cell_type": "code",
   "execution_count": 37,
   "metadata": {},
   "outputs": [
    {
     "data": {
      "text/html": [
       "<div>\n",
       "<style scoped>\n",
       "    .dataframe tbody tr th:only-of-type {\n",
       "        vertical-align: middle;\n",
       "    }\n",
       "\n",
       "    .dataframe tbody tr th {\n",
       "        vertical-align: top;\n",
       "    }\n",
       "\n",
       "    .dataframe thead th {\n",
       "        text-align: right;\n",
       "    }\n",
       "</style>\n",
       "<table border=\"1\" class=\"dataframe\">\n",
       "  <thead>\n",
       "    <tr style=\"text-align: right;\">\n",
       "      <th></th>\n",
       "      <th>DATE</th>\n",
       "      <th>TEAM</th>\n",
       "      <th>NAME</th>\n",
       "      <th>POSITION</th>\n",
       "      <th>CASE</th>\n",
       "      <th>CATEGORY</th>\n",
       "      <th>DESCRIPTION</th>\n",
       "      <th>OUTCOME</th>\n",
       "      <th>YEAR</th>\n",
       "      <th>RELEASED</th>\n",
       "    </tr>\n",
       "  </thead>\n",
       "  <tbody>\n",
       "    <tr>\n",
       "      <th>14</th>\n",
       "      <td>11/29/2016</td>\n",
       "      <td>MIA</td>\n",
       "      <td>Leon Orr</td>\n",
       "      <td>DT</td>\n",
       "      <td>Arrested</td>\n",
       "      <td>Drugs</td>\n",
       "      <td>Pulled over for tinted windows, charged with m...</td>\n",
       "      <td>Resolution undetermined. Team released him nex...</td>\n",
       "      <td>2016</td>\n",
       "      <td>yes</td>\n",
       "    </tr>\n",
       "    <tr>\n",
       "      <th>16</th>\n",
       "      <td>11/1/2016</td>\n",
       "      <td>PHI</td>\n",
       "      <td>Josh Huff</td>\n",
       "      <td>WR</td>\n",
       "      <td>Arrested</td>\n",
       "      <td>DUI, drugs, gun</td>\n",
       "      <td>Pulled over and accused of drunken driving, ma...</td>\n",
       "      <td>Resolution undetermined. Team released him lat...</td>\n",
       "      <td>2016</td>\n",
       "      <td>yes</td>\n",
       "    </tr>\n",
       "    <tr>\n",
       "      <th>17</th>\n",
       "      <td>10/12/2016</td>\n",
       "      <td>MIN</td>\n",
       "      <td>Isame Faciane</td>\n",
       "      <td>OG</td>\n",
       "      <td>Arrested</td>\n",
       "      <td>DUI</td>\n",
       "      <td>Charged with drunken driving after being pulle...</td>\n",
       "      <td>Resolution undetermined. Team released him lat...</td>\n",
       "      <td>2016</td>\n",
       "      <td>yes</td>\n",
       "    </tr>\n",
       "    <tr>\n",
       "      <th>20</th>\n",
       "      <td>9/16/2016</td>\n",
       "      <td>TB</td>\n",
       "      <td>Austin Seferian-Jenkins</td>\n",
       "      <td>TE</td>\n",
       "      <td>Arrested</td>\n",
       "      <td>DUI</td>\n",
       "      <td>Pulled over for speeding and driving erratical...</td>\n",
       "      <td>Pleaded no contest to reduced charge, one-year...</td>\n",
       "      <td>2016</td>\n",
       "      <td>yes</td>\n",
       "    </tr>\n",
       "    <tr>\n",
       "      <th>21</th>\n",
       "      <td>9/5/2016</td>\n",
       "      <td>SF</td>\n",
       "      <td>Bruce Miller</td>\n",
       "      <td>TE</td>\n",
       "      <td>Arrested</td>\n",
       "      <td>Assault</td>\n",
       "      <td>Accused of assaulting a man and his 70-year-ol...</td>\n",
       "      <td>Resolution undetermined. Team released him sam...</td>\n",
       "      <td>2016</td>\n",
       "      <td>yes</td>\n",
       "    </tr>\n",
       "    <tr>\n",
       "      <th>...</th>\n",
       "      <td>...</td>\n",
       "      <td>...</td>\n",
       "      <td>...</td>\n",
       "      <td>...</td>\n",
       "      <td>...</td>\n",
       "      <td>...</td>\n",
       "      <td>...</td>\n",
       "      <td>...</td>\n",
       "      <td>...</td>\n",
       "      <td>...</td>\n",
       "    </tr>\n",
       "    <tr>\n",
       "      <th>783</th>\n",
       "      <td>9/4/2001</td>\n",
       "      <td>BAL</td>\n",
       "      <td>Cornell Brown</td>\n",
       "      <td>LB</td>\n",
       "      <td>Arrested</td>\n",
       "      <td>Drugs</td>\n",
       "      <td>Complaints from neighbors led police to find m...</td>\n",
       "      <td>Charge dropped. Team cut him the next day but ...</td>\n",
       "      <td>2001</td>\n",
       "      <td>yes</td>\n",
       "    </tr>\n",
       "    <tr>\n",
       "      <th>786</th>\n",
       "      <td>8/26/2001</td>\n",
       "      <td>CIN</td>\n",
       "      <td>Tom Barndt</td>\n",
       "      <td>DT</td>\n",
       "      <td>Arrested</td>\n",
       "      <td>DUI</td>\n",
       "      <td>Pulled over in Covington, Ky., accused of drun...</td>\n",
       "      <td>Resolution undetermined. Team released him the...</td>\n",
       "      <td>2001</td>\n",
       "      <td>yes</td>\n",
       "    </tr>\n",
       "    <tr>\n",
       "      <th>795</th>\n",
       "      <td>6/16/2001</td>\n",
       "      <td>TB</td>\n",
       "      <td>Alex Ardley</td>\n",
       "      <td>CB</td>\n",
       "      <td>Charged</td>\n",
       "      <td>DUI</td>\n",
       "      <td>Accused of drunk driving and crashing Deuce Mc...</td>\n",
       "      <td>Pleaded guilty to a reduced charge, 150 hours ...</td>\n",
       "      <td>2001</td>\n",
       "      <td>yes</td>\n",
       "    </tr>\n",
       "    <tr>\n",
       "      <th>822</th>\n",
       "      <td>8/7/2000</td>\n",
       "      <td>KC</td>\n",
       "      <td>Andre Rison</td>\n",
       "      <td>WR</td>\n",
       "      <td>Cited</td>\n",
       "      <td>False information</td>\n",
       "      <td>Accused of lying to police about his name afte...</td>\n",
       "      <td>Guilty, fined $219.50. Team cut him a few days...</td>\n",
       "      <td>2000</td>\n",
       "      <td>yes</td>\n",
       "    </tr>\n",
       "    <tr>\n",
       "      <th>823</th>\n",
       "      <td>7/28/2000</td>\n",
       "      <td>TB</td>\n",
       "      <td>Darnell McDonald</td>\n",
       "      <td>WR</td>\n",
       "      <td>Arrested</td>\n",
       "      <td>Burglary, battery</td>\n",
       "      <td>Accused of aggravated battery with great bodil...</td>\n",
       "      <td>Pleaded out, two years probation, 150 hours of...</td>\n",
       "      <td>2000</td>\n",
       "      <td>yes</td>\n",
       "    </tr>\n",
       "  </tbody>\n",
       "</table>\n",
       "<p>90 rows × 10 columns</p>\n",
       "</div>"
      ],
      "text/plain": [
       "           DATE TEAM                     NAME POSITION      CASE  \\\n",
       "14   11/29/2016  MIA                 Leon Orr       DT  Arrested   \n",
       "16    11/1/2016  PHI                Josh Huff       WR  Arrested   \n",
       "17   10/12/2016  MIN            Isame Faciane       OG  Arrested   \n",
       "20    9/16/2016   TB  Austin Seferian-Jenkins       TE  Arrested   \n",
       "21     9/5/2016   SF             Bruce Miller       TE  Arrested   \n",
       "..          ...  ...                      ...      ...       ...   \n",
       "783    9/4/2001  BAL            Cornell Brown       LB  Arrested   \n",
       "786   8/26/2001  CIN               Tom Barndt       DT  Arrested   \n",
       "795   6/16/2001   TB              Alex Ardley       CB   Charged   \n",
       "822    8/7/2000   KC              Andre Rison       WR     Cited   \n",
       "823   7/28/2000   TB         Darnell McDonald       WR  Arrested   \n",
       "\n",
       "              CATEGORY                                        DESCRIPTION  \\\n",
       "14               Drugs  Pulled over for tinted windows, charged with m...   \n",
       "16     DUI, drugs, gun  Pulled over and accused of drunken driving, ma...   \n",
       "17                 DUI  Charged with drunken driving after being pulle...   \n",
       "20                 DUI  Pulled over for speeding and driving erratical...   \n",
       "21             Assault  Accused of assaulting a man and his 70-year-ol...   \n",
       "..                 ...                                                ...   \n",
       "783              Drugs  Complaints from neighbors led police to find m...   \n",
       "786                DUI  Pulled over in Covington, Ky., accused of drun...   \n",
       "795                DUI  Accused of drunk driving and crashing Deuce Mc...   \n",
       "822  False information  Accused of lying to police about his name afte...   \n",
       "823  Burglary, battery  Accused of aggravated battery with great bodil...   \n",
       "\n",
       "                                               OUTCOME  YEAR RELEASED  \n",
       "14   Resolution undetermined. Team released him nex...  2016      yes  \n",
       "16   Resolution undetermined. Team released him lat...  2016      yes  \n",
       "17   Resolution undetermined. Team released him lat...  2016      yes  \n",
       "20   Pleaded no contest to reduced charge, one-year...  2016      yes  \n",
       "21   Resolution undetermined. Team released him sam...  2016      yes  \n",
       "..                                                 ...   ...      ...  \n",
       "783  Charge dropped. Team cut him the next day but ...  2001      yes  \n",
       "786  Resolution undetermined. Team released him the...  2001      yes  \n",
       "795  Pleaded guilty to a reduced charge, 150 hours ...  2001      yes  \n",
       "822  Guilty, fined $219.50. Team cut him a few days...  2000      yes  \n",
       "823  Pleaded out, two years probation, 150 hours of...  2000      yes  \n",
       "\n",
       "[90 rows x 10 columns]"
      ]
     },
     "execution_count": 37,
     "metadata": {},
     "output_type": "execute_result"
    }
   ],
   "source": [
    "arrested_players = arrest_data.loc[arrest_data['RELEASED'] == 'yes']\n",
    "arrested_players"
   ]
  },
  {
   "cell_type": "code",
   "execution_count": 38,
   "metadata": {},
   "outputs": [
    {
     "data": {
      "text/plain": [
       "YEAR\n",
       "2008    21\n",
       "2007    19\n",
       "2006    18\n",
       "2010    14\n",
       "2009    14\n",
       "2001    13\n",
       "2014    13\n",
       "2013    13\n",
       "2005    13\n",
       "2002    12\n",
       "2000    11\n",
       "2011    11\n",
       "2012    11\n",
       "2003    10\n",
       "2015    10\n",
       "2004     8\n",
       "2016     6\n",
       "2017     3\n",
       "Name: count, dtype: int64"
      ]
     },
     "execution_count": 38,
     "metadata": {},
     "output_type": "execute_result"
    }
   ],
   "source": [
    "violent_crimes_data = arrest_data[arrest_data[\"CATEGORY\"].isin(violent_crimes)==True]\n",
    "violent_crimes_data['YEAR'].value_counts()\n"
   ]
  },
  {
   "cell_type": "code",
   "execution_count": 39,
   "metadata": {},
   "outputs": [
    {
     "data": {
      "text/plain": [
       "POSITION\n",
       "LB    42\n",
       "RB    27\n",
       "CB    27\n",
       "WR    25\n",
       "DT    20\n",
       "OT    18\n",
       "S     16\n",
       "DE    16\n",
       "TE    11\n",
       "OG     5\n",
       "K      4\n",
       "QB     3\n",
       "FB     2\n",
       "DB     1\n",
       "OL     1\n",
       "P      1\n",
       "C      1\n",
       "Name: count, dtype: int64"
      ]
     },
     "execution_count": 39,
     "metadata": {},
     "output_type": "execute_result"
    }
   ],
   "source": [
    "violent_crimes_data = arrest_data[arrest_data[\"CATEGORY\"].isin(violent_crimes)==True]\n",
    "violent_crimes_data['POSITION'].value_counts()"
   ]
  },
  {
   "cell_type": "code",
   "execution_count": 40,
   "metadata": {},
   "outputs": [
    {
     "data": {
      "text/plain": [
       "POSITION\n",
       "LB    42\n",
       "RB    27\n",
       "DT    20\n",
       "OT    18\n",
       "DE    16\n",
       "TE    11\n",
       "OG     5\n",
       "QB     3\n",
       "FB     2\n",
       "OL     1\n",
       "C      1\n",
       "Name: count, dtype: int64"
      ]
     },
     "execution_count": 40,
     "metadata": {},
     "output_type": "execute_result"
    }
   ],
   "source": [
    "in_the_box_violent_crimes = violent_crimes_data[violent_crimes_data['POSITION'].isin(players_in_box)==True]\n",
    "in_the_box_violent_crimes['POSITION'].value_counts()"
   ]
  },
  {
   "cell_type": "code",
   "execution_count": 41,
   "metadata": {},
   "outputs": [
    {
     "data": {
      "text/plain": [
       "POSITION\n",
       "LB       118\n",
       "RB        97\n",
       "DT        77\n",
       "DE        68\n",
       "OT        49\n",
       "TE        39\n",
       "OG        25\n",
       "QB        18\n",
       "FB        15\n",
       "C          5\n",
       "OL         1\n",
       "DE/DT      1\n",
       "Name: count, dtype: int64"
      ]
     },
     "execution_count": 41,
     "metadata": {},
     "output_type": "execute_result"
    }
   ],
   "source": [
    "in_the_box_crimes = arrest_data[arrest_data['POSITION'].isin(players_in_box)==True]\n",
    "in_the_box_crimes['POSITION'].value_counts()"
   ]
  }
 ],
 "metadata": {
  "kernelspec": {
   "display_name": "Python 3 (ipykernel)",
   "language": "python",
   "name": "python3"
  },
  "language_info": {
   "codemirror_mode": {
    "name": "ipython",
    "version": 3
   },
   "file_extension": ".py",
   "mimetype": "text/x-python",
   "name": "python",
   "nbconvert_exporter": "python",
   "pygments_lexer": "ipython3",
   "version": "3.11.5"
  }
 },
 "nbformat": 4,
 "nbformat_minor": 2
}

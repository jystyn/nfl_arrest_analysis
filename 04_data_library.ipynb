{
 "cells": [
  {
   "cell_type": "code",
   "execution_count": 1,
   "metadata": {},
   "outputs": [],
   "source": [
    "# Dependencies\n",
    "from matplotlib import pyplot as plt\n",
    "from scipy import stats\n",
    "import numpy as np\n",
    "import pandas as pd"
   ]
  },
  {
   "cell_type": "markdown",
   "metadata": {},
   "source": [
    "<font size=\"6\">**LIBRARY: COPY, PASTE, WHATEVER, BUT SHHH**"
   ]
  },
  {
   "cell_type": "code",
   "execution_count": 2,
   "metadata": {},
   "outputs": [
    {
     "data": {
      "text/html": [
       "<div>\n",
       "<style scoped>\n",
       "    .dataframe tbody tr th:only-of-type {\n",
       "        vertical-align: middle;\n",
       "    }\n",
       "\n",
       "    .dataframe tbody tr th {\n",
       "        vertical-align: top;\n",
       "    }\n",
       "\n",
       "    .dataframe thead th {\n",
       "        text-align: right;\n",
       "    }\n",
       "</style>\n",
       "<table border=\"1\" class=\"dataframe\">\n",
       "  <thead>\n",
       "    <tr style=\"text-align: right;\">\n",
       "      <th></th>\n",
       "      <th>DATE</th>\n",
       "      <th>TEAM</th>\n",
       "      <th>NAME</th>\n",
       "      <th>POSITION</th>\n",
       "      <th>CASE</th>\n",
       "      <th>CATEGORY</th>\n",
       "      <th>DESCRIPTION</th>\n",
       "      <th>OUTCOME</th>\n",
       "      <th>YEAR</th>\n",
       "      <th>WEED?</th>\n",
       "      <th>FELONY?</th>\n",
       "      <th>GUN?</th>\n",
       "      <th>RELEASED?</th>\n",
       "    </tr>\n",
       "  </thead>\n",
       "  <tbody>\n",
       "    <tr>\n",
       "      <th>0</th>\n",
       "      <td>3/27/2017</td>\n",
       "      <td>SEA</td>\n",
       "      <td>Trevone Boykin</td>\n",
       "      <td>QB</td>\n",
       "      <td>Arrested</td>\n",
       "      <td>Drugs</td>\n",
       "      <td>Accused of marijuana possession, public intoxi...</td>\n",
       "      <td>Resolution undetermined.</td>\n",
       "      <td>2017</td>\n",
       "      <td>yes</td>\n",
       "      <td>no</td>\n",
       "      <td>no</td>\n",
       "      <td>no</td>\n",
       "    </tr>\n",
       "    <tr>\n",
       "      <th>1</th>\n",
       "      <td>3/26/2017</td>\n",
       "      <td>CHI</td>\n",
       "      <td>Deiondre Hall</td>\n",
       "      <td>CB</td>\n",
       "      <td>Arrested</td>\n",
       "      <td>Disorderly conduct</td>\n",
       "      <td>Accused of disorderly conduct, public intoxica...</td>\n",
       "      <td>Resolution undetermined.</td>\n",
       "      <td>2017</td>\n",
       "      <td>no</td>\n",
       "      <td>no</td>\n",
       "      <td>no</td>\n",
       "      <td>no</td>\n",
       "    </tr>\n",
       "    <tr>\n",
       "      <th>2</th>\n",
       "      <td>3/26/2017</td>\n",
       "      <td>GB</td>\n",
       "      <td>Makinton Dorleant</td>\n",
       "      <td>CB</td>\n",
       "      <td>Arrested</td>\n",
       "      <td>Police interference</td>\n",
       "      <td>Accused of interfence after scuffle outside of...</td>\n",
       "      <td>Resolution undetermined.</td>\n",
       "      <td>2017</td>\n",
       "      <td>no</td>\n",
       "      <td>no</td>\n",
       "      <td>no</td>\n",
       "      <td>no</td>\n",
       "    </tr>\n",
       "    <tr>\n",
       "      <th>3</th>\n",
       "      <td>3/7/2017</td>\n",
       "      <td>KC</td>\n",
       "      <td>Demetrius Harris</td>\n",
       "      <td>TE</td>\n",
       "      <td>Arrested</td>\n",
       "      <td>Drugs</td>\n",
       "      <td>Suspected of felony marijuana possession as pa...</td>\n",
       "      <td>Resolution undetermined.</td>\n",
       "      <td>2017</td>\n",
       "      <td>yes</td>\n",
       "      <td>yes</td>\n",
       "      <td>no</td>\n",
       "      <td>no</td>\n",
       "    </tr>\n",
       "    <tr>\n",
       "      <th>4</th>\n",
       "      <td>3/5/2017</td>\n",
       "      <td>LAR</td>\n",
       "      <td>Ethan Westbrooks</td>\n",
       "      <td>DT</td>\n",
       "      <td>Arrested</td>\n",
       "      <td>Domestic violence</td>\n",
       "      <td>Suspected of domestic violence in Sacramento a...</td>\n",
       "      <td>Resolution undetermined.</td>\n",
       "      <td>2017</td>\n",
       "      <td>no</td>\n",
       "      <td>no</td>\n",
       "      <td>no</td>\n",
       "      <td>no</td>\n",
       "    </tr>\n",
       "    <tr>\n",
       "      <th>...</th>\n",
       "      <td>...</td>\n",
       "      <td>...</td>\n",
       "      <td>...</td>\n",
       "      <td>...</td>\n",
       "      <td>...</td>\n",
       "      <td>...</td>\n",
       "      <td>...</td>\n",
       "      <td>...</td>\n",
       "      <td>...</td>\n",
       "      <td>...</td>\n",
       "      <td>...</td>\n",
       "      <td>...</td>\n",
       "      <td>...</td>\n",
       "    </tr>\n",
       "    <tr>\n",
       "      <th>845</th>\n",
       "      <td>2/6/2000</td>\n",
       "      <td>NYJ</td>\n",
       "      <td>Wayne Chrebet</td>\n",
       "      <td>WR</td>\n",
       "      <td>Arrested</td>\n",
       "      <td>Disorderly conduct</td>\n",
       "      <td>Accused of disorderly conduct in altercation o...</td>\n",
       "      <td>Pleaded guilty to nuisance violation, fined $230.</td>\n",
       "      <td>2000</td>\n",
       "      <td>no</td>\n",
       "      <td>no</td>\n",
       "      <td>no</td>\n",
       "      <td>no</td>\n",
       "    </tr>\n",
       "    <tr>\n",
       "      <th>846</th>\n",
       "      <td>2/5/2000</td>\n",
       "      <td>CIN</td>\n",
       "      <td>Steve Foley</td>\n",
       "      <td>LB</td>\n",
       "      <td>Arrested</td>\n",
       "      <td>Domestic violence</td>\n",
       "      <td>Accused of kicking in the door of his son's mo...</td>\n",
       "      <td>Charge dropped after woman declined to cooperate.</td>\n",
       "      <td>2000</td>\n",
       "      <td>no</td>\n",
       "      <td>no</td>\n",
       "      <td>no</td>\n",
       "      <td>no</td>\n",
       "    </tr>\n",
       "    <tr>\n",
       "      <th>847</th>\n",
       "      <td>2/3/2000</td>\n",
       "      <td>CAR</td>\n",
       "      <td>Fred Lane</td>\n",
       "      <td>RB</td>\n",
       "      <td>Arrested</td>\n",
       "      <td>Drugs, gun</td>\n",
       "      <td>Police pulled him over in Jackson, Tenn., for ...</td>\n",
       "      <td>Indicted but shot and killed by his wife in Ju...</td>\n",
       "      <td>2000</td>\n",
       "      <td>yes</td>\n",
       "      <td>no</td>\n",
       "      <td>no</td>\n",
       "      <td>no</td>\n",
       "    </tr>\n",
       "    <tr>\n",
       "      <th>848</th>\n",
       "      <td>1/31/2000</td>\n",
       "      <td>BAL</td>\n",
       "      <td>Ray Lewis</td>\n",
       "      <td>LB</td>\n",
       "      <td>Charged</td>\n",
       "      <td>Murder</td>\n",
       "      <td>Accused of murder in the stabbing deaths of tw...</td>\n",
       "      <td>Pleaded guilty to obstruction of justice, one ...</td>\n",
       "      <td>2000</td>\n",
       "      <td>no</td>\n",
       "      <td>no</td>\n",
       "      <td>no</td>\n",
       "      <td>no</td>\n",
       "    </tr>\n",
       "    <tr>\n",
       "      <th>849</th>\n",
       "      <td>1/24/2000</td>\n",
       "      <td>DEN</td>\n",
       "      <td>Rod Smith</td>\n",
       "      <td>WR</td>\n",
       "      <td>Arrested</td>\n",
       "      <td>Domestic violence</td>\n",
       "      <td>Accused of choking, beating and shoving his co...</td>\n",
       "      <td>Pleaded guilty to misdemeanor count of verbal ...</td>\n",
       "      <td>2000</td>\n",
       "      <td>no</td>\n",
       "      <td>no</td>\n",
       "      <td>no</td>\n",
       "      <td>no</td>\n",
       "    </tr>\n",
       "  </tbody>\n",
       "</table>\n",
       "<p>850 rows × 13 columns</p>\n",
       "</div>"
      ],
      "text/plain": [
       "          DATE TEAM               NAME POSITION      CASE  \\\n",
       "0    3/27/2017  SEA     Trevone Boykin       QB  Arrested   \n",
       "1    3/26/2017  CHI      Deiondre Hall       CB  Arrested   \n",
       "2    3/26/2017   GB  Makinton Dorleant       CB  Arrested   \n",
       "3     3/7/2017   KC   Demetrius Harris       TE  Arrested   \n",
       "4     3/5/2017  LAR   Ethan Westbrooks       DT  Arrested   \n",
       "..         ...  ...                ...      ...       ...   \n",
       "845   2/6/2000  NYJ      Wayne Chrebet       WR  Arrested   \n",
       "846   2/5/2000  CIN        Steve Foley       LB  Arrested   \n",
       "847   2/3/2000  CAR          Fred Lane       RB  Arrested   \n",
       "848  1/31/2000  BAL          Ray Lewis       LB   Charged   \n",
       "849  1/24/2000  DEN          Rod Smith       WR  Arrested   \n",
       "\n",
       "                CATEGORY                                        DESCRIPTION  \\\n",
       "0                  Drugs  Accused of marijuana possession, public intoxi...   \n",
       "1     Disorderly conduct  Accused of disorderly conduct, public intoxica...   \n",
       "2    Police interference  Accused of interfence after scuffle outside of...   \n",
       "3                  Drugs  Suspected of felony marijuana possession as pa...   \n",
       "4      Domestic violence  Suspected of domestic violence in Sacramento a...   \n",
       "..                   ...                                                ...   \n",
       "845   Disorderly conduct  Accused of disorderly conduct in altercation o...   \n",
       "846    Domestic violence  Accused of kicking in the door of his son's mo...   \n",
       "847           Drugs, gun  Police pulled him over in Jackson, Tenn., for ...   \n",
       "848               Murder  Accused of murder in the stabbing deaths of tw...   \n",
       "849    Domestic violence  Accused of choking, beating and shoving his co...   \n",
       "\n",
       "                                               OUTCOME  YEAR WEED? FELONY?  \\\n",
       "0                             Resolution undetermined.  2017   yes      no   \n",
       "1                             Resolution undetermined.  2017    no      no   \n",
       "2                             Resolution undetermined.  2017    no      no   \n",
       "3                             Resolution undetermined.  2017   yes     yes   \n",
       "4                             Resolution undetermined.  2017    no      no   \n",
       "..                                                 ...   ...   ...     ...   \n",
       "845  Pleaded guilty to nuisance violation, fined $230.  2000    no      no   \n",
       "846  Charge dropped after woman declined to cooperate.  2000    no      no   \n",
       "847  Indicted but shot and killed by his wife in Ju...  2000   yes      no   \n",
       "848  Pleaded guilty to obstruction of justice, one ...  2000    no      no   \n",
       "849  Pleaded guilty to misdemeanor count of verbal ...  2000    no      no   \n",
       "\n",
       "    GUN? RELEASED?  \n",
       "0     no        no  \n",
       "1     no        no  \n",
       "2     no        no  \n",
       "3     no        no  \n",
       "4     no        no  \n",
       "..   ...       ...  \n",
       "845   no        no  \n",
       "846   no        no  \n",
       "847   no        no  \n",
       "848   no        no  \n",
       "849   no        no  \n",
       "\n",
       "[850 rows x 13 columns]"
      ]
     },
     "execution_count": 2,
     "metadata": {},
     "output_type": "execute_result"
    }
   ],
   "source": [
    "#offense, defense, and special teams groups\n",
    "offense_pos = [\"QB\", \"RB\", \"FB\", \"WR\", \"TE\", \"OT\", \"OG\", \"C\", \"OL\"]\n",
    "defense_pos = [\"DE\", \"DT\", \"DE/DT\", \"LB\", \"CB\", \"S\", \"DB\"]\n",
    "sp_teams_pos = [\"K\", \"P\"]\n",
    "\n",
    "players_in_box = [\"QB\", \"RB\", \"FB\", \"TE\", \"OT\", \"OG\", \"C\", \"OL\", \"DE\", \"DT\", \"DE/DT\", \"LB\"]\n",
    "violent_crimes = [\n",
    "                'Domestic violence', \n",
    "                'Assault', \n",
    "                'Battery', \n",
    "                'Burglary', \n",
    "                'Domestic violence, rape', \n",
    "                'Child abuse', \n",
    "                'Assault, alcohol', \n",
    "                'Murder, gun', \n",
    "                'Assault, gun', \n",
    "                'Burglary, gun', \n",
    "                'Sexual assault', \n",
    "                'DUI, assault', \n",
    "                'DUI, manslaughter', \n",
    "                'Manslaughter',\n",
    "                'Alcohol, assault',\n",
    "                'Assault, gun',\n",
    "                'Battery, resisting arrest',\n",
    "                'Domestic',\n",
    "                'Battery, alcohol',\n",
    "                'Domestic violence, alcohol',\n",
    "                'Gun, assault',\n",
    "                'Domestic violence, gun',\n",
    "                'Assault, alcohol',\n",
    "                'Burglary, assault',\n",
    "                'Manslaughter, child abuse',\n",
    "                'Burglary, battery',\n",
    "                'Murder'\n",
    "                ]\n",
    "domestic_violence_terms = [\n",
    "                'Domestic violence',\n",
    "                'Domestic violence, rape',\n",
    "                'Domestic violence, gun',\n",
    "                'Domestic violence, alcohol',\n",
    "                'Domestic'\n",
    "                ]\n",
    "\n",
    "arrest_data = pd.read_csv('Resources/ArrestIncidents.csv')\n",
    "arrest_data[\"YEAR\"] = arrest_data[\"DATE\"].str[-4:]\n",
    "arrest_data[\"WEED?\"] = np.where((arrest_data['DESCRIPTION'].str.find('arijuana') != -1), 'yes', 'no')\n",
    "arrest_data[\"FELONY?\"] = np.where((arrest_data['DESCRIPTION'].str.find('elony') != -1), 'yes', 'no')\n",
    "arrest_data[\"GUN?\"] = np.where((arrest_data['DESCRIPTION'].str.find(' gun') != -1) |\n",
    "                               (arrest_data['DESCRIPTION'].str.find(' Gun') != -1), 'yes', 'no')\n",
    "arrest_data[\"RELEASED?\"] = np.where((arrest_data['OUTCOME'].str.find('eam released') != -1) | \n",
    "                                   (arrest_data['OUTCOME'].str.find('eleased from team') != -1) | \n",
    "                                   (arrest_data['OUTCOME'].str.find('ut by team') != -1) | \n",
    "                                   (arrest_data['OUTCOME'].str.find('eleased by team') != -1) | \n",
    "                                   (arrest_data['OUTCOME'].str.find('eam cut') != -1), 'yes', 'no')\n",
    "\n",
    "arrest_data"
   ]
  },
  {
   "cell_type": "code",
   "execution_count": 3,
   "metadata": {},
   "outputs": [
    {
     "data": {
      "text/plain": [
       "YEAR\n",
       "2008    14\n",
       "2012    10\n",
       "2014     9\n",
       "2011     8\n",
       "2013     7\n",
       "2007     7\n",
       "2006     6\n",
       "2015     6\n",
       "2001     5\n",
       "2016     5\n",
       "2003     4\n",
       "2017     4\n",
       "2009     4\n",
       "2000     4\n",
       "2004     2\n",
       "2010     2\n",
       "2005     1\n",
       "2002     1\n",
       "Name: count, dtype: int64"
      ]
     },
     "execution_count": 3,
     "metadata": {},
     "output_type": "execute_result"
    }
   ],
   "source": [
    "drugpos_by_year = arrest_data.loc[arrest_data[\"CATEGORY\"] == \"Drugs\", :][\"YEAR\"].value_counts()\n",
    "drugpos_by_year"
   ]
  },
  {
   "cell_type": "code",
   "execution_count": 4,
   "metadata": {},
   "outputs": [
    {
     "data": {
      "text/plain": [
       "YEAR\n",
       "2006    10\n",
       "2008     9\n",
       "2005     9\n",
       "2001     8\n",
       "2013     7\n",
       "2015     6\n",
       "2010     6\n",
       "2007     5\n",
       "2000     5\n",
       "2009     5\n",
       "2014     5\n",
       "2002     4\n",
       "2011     3\n",
       "2012     3\n",
       "2004     3\n",
       "2003     3\n",
       "2016     2\n",
       "2017     1\n",
       "Name: count, dtype: int64"
      ]
     },
     "execution_count": 4,
     "metadata": {},
     "output_type": "execute_result"
    }
   ],
   "source": [
    "dv_by_year = arrest_data.loc[arrest_data[\"CATEGORY\"] == \"Domestic violence\", :][\"YEAR\"].value_counts()\n",
    "dv_by_year"
   ]
  },
  {
   "cell_type": "markdown",
   "metadata": {},
   "source": [
    "STATISTICS"
   ]
  },
  {
   "cell_type": "markdown",
   "metadata": {},
   "source": [
    "<font size=\"5\">Number of Arrests for Each Team"
   ]
  },
  {
   "cell_type": "code",
   "execution_count": 5,
   "metadata": {},
   "outputs": [
    {
     "data": {
      "text/plain": [
       "TEAM\n",
       "MIN    49\n",
       "DEN    47\n",
       "CIN    44\n",
       "TEN    36\n",
       "TB     36\n",
       "Name: count, dtype: int64"
      ]
     },
     "execution_count": 5,
     "metadata": {},
     "output_type": "execute_result"
    }
   ],
   "source": [
    "team_count = arrest_data[\"TEAM\"].value_counts()\n",
    "team_count.head()"
   ]
  },
  {
   "cell_type": "markdown",
   "metadata": {},
   "source": [
    "<font size=\"5\">Top 3 Teams Arrests by Category"
   ]
  },
  {
   "cell_type": "code",
   "execution_count": 6,
   "metadata": {},
   "outputs": [
    {
     "data": {
      "text/plain": [
       "CATEGORY\n",
       "DUI                        17\n",
       "Assault                     7\n",
       "Disorderly conduct, sex     4\n",
       "Drugs                       3\n",
       "Domestic violence           3\n",
       "Name: count, dtype: int64"
      ]
     },
     "execution_count": 6,
     "metadata": {},
     "output_type": "execute_result"
    }
   ],
   "source": [
    "min_arrest_counts = arrest_data.loc[arrest_data[\"TEAM\"] == \"MIN\", :][\"CATEGORY\"].value_counts()\n",
    "min_arrest_counts.head()"
   ]
  },
  {
   "cell_type": "code",
   "execution_count": 7,
   "metadata": {},
   "outputs": [
    {
     "data": {
      "text/plain": [
       "CATEGORY\n",
       "DUI                   12\n",
       "Domestic violence     11\n",
       "Assault                4\n",
       "Disorderly conduct     3\n",
       "License                2\n",
       "Name: count, dtype: int64"
      ]
     },
     "execution_count": 7,
     "metadata": {},
     "output_type": "execute_result"
    }
   ],
   "source": [
    "den_arrest_counts = arrest_data.loc[arrest_data[\"TEAM\"] == \"DEN\", :][\"CATEGORY\"].value_counts()\n",
    "den_arrest_counts.head()"
   ]
  },
  {
   "cell_type": "code",
   "execution_count": 8,
   "metadata": {},
   "outputs": [
    {
     "data": {
      "text/plain": [
       "CATEGORY\n",
       "Assault               9\n",
       "DUI                   9\n",
       "Domestic violence     5\n",
       "Gun                   4\n",
       "Disorderly conduct    3\n",
       "Name: count, dtype: int64"
      ]
     },
     "execution_count": 8,
     "metadata": {},
     "output_type": "execute_result"
    }
   ],
   "source": [
    "cin_arrest_counts = arrest_data.loc[arrest_data[\"TEAM\"] == \"CIN\", :][\"CATEGORY\"].value_counts()\n",
    "cin_arrest_counts.head()"
   ]
  },
  {
   "cell_type": "markdown",
   "metadata": {},
   "source": [
    "<font size=\"5\">Players with Multiple Occurances in Data Set"
   ]
  },
  {
   "cell_type": "code",
   "execution_count": 9,
   "metadata": {},
   "outputs": [
    {
     "data": {
      "text/plain": [
       "NAME\n",
       "Adam Jones         10\n",
       "Kenny Britt         7\n",
       "Chris Henry         6\n",
       "Aldon Smith         5\n",
       "Bryant McKinnie     4\n",
       "Name: count, dtype: int64"
      ]
     },
     "execution_count": 9,
     "metadata": {},
     "output_type": "execute_result"
    }
   ],
   "source": [
    "player_arrest_count = arrest_data[\"NAME\"].value_counts()\n",
    "player_arrest_count.head()"
   ]
  },
  {
   "cell_type": "markdown",
   "metadata": {},
   "source": [
    "<font size=\"5\">Number of Players by Position"
   ]
  },
  {
   "cell_type": "code",
   "execution_count": 10,
   "metadata": {},
   "outputs": [
    {
     "data": {
      "text/plain": [
       "POSITION\n",
       "WR       136\n",
       "LB       118\n",
       "CB       112\n",
       "RB        97\n",
       "DT        77\n",
       "S         70\n",
       "DE        68\n",
       "OT        49\n",
       "TE        39\n",
       "OG        25\n",
       "QB        18\n",
       "FB        15\n",
       "K         12\n",
       "C          5\n",
       "DB         4\n",
       "P          3\n",
       "OL         1\n",
       "DE/DT      1\n",
       "Name: count, dtype: int64"
      ]
     },
     "execution_count": 10,
     "metadata": {},
     "output_type": "execute_result"
    }
   ],
   "source": [
    "position_count = arrest_data[\"POSITION\"].value_counts()\n",
    "position_count"
   ]
  },
  {
   "cell_type": "markdown",
   "metadata": {},
   "source": [
    "<font size=\"5\">Case Type by Count"
   ]
  },
  {
   "cell_type": "code",
   "execution_count": 11,
   "metadata": {},
   "outputs": [
    {
     "data": {
      "text/plain": [
       "CASE\n",
       "Arrested       731\n",
       "Charged         52\n",
       "Cited           31\n",
       "Surrendered     14\n",
       "Indicted        12\n",
       "Summoned         4\n",
       "Warrant          3\n",
       "Detained         1\n",
       "Died             1\n",
       "Jailed           1\n",
       "Name: count, dtype: int64"
      ]
     },
     "execution_count": 11,
     "metadata": {},
     "output_type": "execute_result"
    }
   ],
   "source": [
    "case_type_count = arrest_data[\"CASE\"].value_counts()\n",
    "case_type_count"
   ]
  },
  {
   "cell_type": "markdown",
   "metadata": {},
   "source": [
    "<font size=\"5\">Category by Count"
   ]
  },
  {
   "cell_type": "code",
   "execution_count": 12,
   "metadata": {},
   "outputs": [
    {
     "data": {
      "text/plain": [
       "CATEGORY\n",
       "DUI                      215\n",
       "Drugs                     99\n",
       "Domestic violence         94\n",
       "Assault                   71\n",
       "Disorderly conduct        43\n",
       "                        ... \n",
       "Traffic warrant            1\n",
       "Handicap parking           1\n",
       "Animal neglect             1\n",
       "Gun, privacy invasion      1\n",
       "Murder                     1\n",
       "Name: count, Length: 107, dtype: int64"
      ]
     },
     "execution_count": 12,
     "metadata": {},
     "output_type": "execute_result"
    }
   ],
   "source": [
    "category_count = arrest_data[\"CATEGORY\"].value_counts()\n",
    "category_count"
   ]
  },
  {
   "cell_type": "markdown",
   "metadata": {},
   "source": [
    "<font size=\"5\">Outcomes by Count"
   ]
  },
  {
   "cell_type": "code",
   "execution_count": 13,
   "metadata": {},
   "outputs": [
    {
     "data": {
      "text/plain": [
       "OUTCOME\n",
       "Resolution undetermined.    166\n",
       "Charge dropped.              51\n",
       "Charges dropped.             23\n",
       "Acquitted.                   10\n",
       "Diversion program.            9\n",
       "Name: count, dtype: int64"
      ]
     },
     "execution_count": 13,
     "metadata": {},
     "output_type": "execute_result"
    }
   ],
   "source": [
    "outcome_count = arrest_data[\"OUTCOME\"].value_counts()\n",
    "outcome_count.head()"
   ]
  },
  {
   "cell_type": "markdown",
   "metadata": {},
   "source": [
    "<font size=\"5\">Category Breakdowns by Position Group"
   ]
  },
  {
   "cell_type": "code",
   "execution_count": 14,
   "metadata": {},
   "outputs": [
    {
     "data": {
      "text/plain": [
       "CATEGORY\n",
       "DUI                   37\n",
       "Drugs                 17\n",
       "Assault               12\n",
       "Domestic violence     10\n",
       "Disorderly conduct     8\n",
       "Name: count, dtype: int64"
      ]
     },
     "execution_count": 14,
     "metadata": {},
     "output_type": "execute_result"
    }
   ],
   "source": [
    "#Categories for WR arrests\n",
    "wr_arrest_counts = arrest_data.loc[arrest_data[\"POSITION\"] == \"WR\", :][\"CATEGORY\"].value_counts()\n",
    "wr_arrest_counts.head()"
   ]
  },
  {
   "cell_type": "code",
   "execution_count": 15,
   "metadata": {},
   "outputs": [
    {
     "data": {
      "text/plain": [
       "CATEGORY\n",
       "DUI                  25\n",
       "Assault              14\n",
       "Domestic violence    13\n",
       "Drugs                 9\n",
       "Battery               6\n",
       "Name: count, dtype: int64"
      ]
     },
     "execution_count": 15,
     "metadata": {},
     "output_type": "execute_result"
    }
   ],
   "source": [
    "#Categories for LB arrests\n",
    "lb_arrest_counts = arrest_data.loc[arrest_data[\"POSITION\"] == \"LB\", :][\"CATEGORY\"].value_counts()\n",
    "lb_arrest_counts.head()"
   ]
  },
  {
   "cell_type": "code",
   "execution_count": 16,
   "metadata": {},
   "outputs": [
    {
     "data": {
      "text/plain": [
       "CATEGORY\n",
       "DUI                   34\n",
       "Drugs                 14\n",
       "Assault               12\n",
       "Domestic violence      9\n",
       "Disorderly conduct     7\n",
       "Name: count, dtype: int64"
      ]
     },
     "execution_count": 16,
     "metadata": {},
     "output_type": "execute_result"
    }
   ],
   "source": [
    "#Categories for CB arrests\n",
    "cb_arrest_counts = arrest_data.loc[arrest_data[\"POSITION\"] == \"CB\", :][\"CATEGORY\"].value_counts()\n",
    "cb_arrest_counts.head()"
   ]
  },
  {
   "cell_type": "code",
   "execution_count": 17,
   "metadata": {},
   "outputs": [
    {
     "data": {
      "text/plain": [
       "CATEGORY\n",
       "Domestic violence     16\n",
       "Drugs                 15\n",
       "DUI                   15\n",
       "Assault                7\n",
       "Disorderly conduct     5\n",
       "Name: count, dtype: int64"
      ]
     },
     "execution_count": 17,
     "metadata": {},
     "output_type": "execute_result"
    }
   ],
   "source": [
    "#Categories for RB arrests\n",
    "rb_arrest_counts = arrest_data.loc[arrest_data[\"POSITION\"] == \"RB\", :][\"CATEGORY\"].value_counts()\n",
    "rb_arrest_counts.head()"
   ]
  },
  {
   "cell_type": "code",
   "execution_count": 18,
   "metadata": {},
   "outputs": [
    {
     "data": {
      "text/plain": [
       "CATEGORY\n",
       "DUI                   17\n",
       "Drugs                 11\n",
       "Domestic violence      9\n",
       "Disorderly conduct     5\n",
       "Gun                    4\n",
       "Name: count, dtype: int64"
      ]
     },
     "execution_count": 18,
     "metadata": {},
     "output_type": "execute_result"
    }
   ],
   "source": [
    "#Categories for DT arrests\n",
    "dt_arrest_counts = arrest_data.loc[arrest_data[\"POSITION\"] == \"DT\", :][\"CATEGORY\"].value_counts()\n",
    "dt_arrest_counts.head()"
   ]
  },
  {
   "cell_type": "code",
   "execution_count": 19,
   "metadata": {},
   "outputs": [
    {
     "data": {
      "text/plain": [
       "CATEGORY\n",
       "DUI                  17\n",
       "Domestic violence     7\n",
       "Gun                   6\n",
       "Drugs                 5\n",
       "Assault               5\n",
       "Name: count, dtype: int64"
      ]
     },
     "execution_count": 19,
     "metadata": {},
     "output_type": "execute_result"
    }
   ],
   "source": [
    "#Categories for S arrests\n",
    "saf_arrest_counts = arrest_data.loc[arrest_data[\"POSITION\"] == \"S\", :][\"CATEGORY\"].value_counts()\n",
    "saf_arrest_counts.head()"
   ]
  },
  {
   "cell_type": "markdown",
   "metadata": {},
   "source": [
    "<font size=\"5\">Defensive Players Represented in Data"
   ]
  },
  {
   "cell_type": "code",
   "execution_count": 20,
   "metadata": {},
   "outputs": [
    {
     "data": {
      "text/plain": [
       "CATEGORY\n",
       "DUI                              116\n",
       "Drugs                             52\n",
       "Domestic violence                 47\n",
       "Assault                           38\n",
       "Disorderly conduct                19\n",
       "                                ... \n",
       "Stalking                           1\n",
       "DUI, assault                       1\n",
       "License, guns                      1\n",
       "Guns, drugs, reckless driving      1\n",
       "Murder                             1\n",
       "Name: count, Length: 83, dtype: int64"
      ]
     },
     "execution_count": 20,
     "metadata": {},
     "output_type": "execute_result"
    }
   ],
   "source": [
    "defense_arrest_counts = arrest_data[arrest_data[\"POSITION\"].isin(defense_pos)==True][\"CATEGORY\"].value_counts()\n",
    "defense_arrest_counts"
   ]
  },
  {
   "cell_type": "markdown",
   "metadata": {},
   "source": [
    "<font size=\"5\">Offensive Players Represented in Data"
   ]
  },
  {
   "cell_type": "code",
   "execution_count": 21,
   "metadata": {},
   "outputs": [
    {
     "data": {
      "text/plain": [
       "CATEGORY\n",
       "DUI                    94\n",
       "Drugs                  46\n",
       "Domestic violence      46\n",
       "Assault                32\n",
       "Disorderly conduct     23\n",
       "                       ..\n",
       "DUI, manslaughter       1\n",
       "Domestic dispute        1\n",
       "Guns, drugs             1\n",
       "Probation violation     1\n",
       "Sexual assault          1\n",
       "Name: count, Length: 63, dtype: int64"
      ]
     },
     "execution_count": 21,
     "metadata": {},
     "output_type": "execute_result"
    }
   ],
   "source": [
    "offense_arrest_counts = arrest_data[arrest_data[\"POSITION\"].isin(offense_pos)==True][\"CATEGORY\"].value_counts()\n",
    "offense_arrest_counts"
   ]
  },
  {
   "cell_type": "markdown",
   "metadata": {},
   "source": [
    "<font size=\"5\">Special Teams Players Represented in Data"
   ]
  },
  {
   "cell_type": "code",
   "execution_count": 22,
   "metadata": {},
   "outputs": [
    {
     "data": {
      "text/plain": [
       "CATEGORY\n",
       "DUI                      5\n",
       "Alcohol                  2\n",
       "Violating court order    1\n",
       "Domestic violence        1\n",
       "Disorderly conduct       1\n",
       "Alcohol, assault         1\n",
       "Battery                  1\n",
       "Assault, alcohol         1\n",
       "Assault                  1\n",
       "Drugs                    1\n",
       "Name: count, dtype: int64"
      ]
     },
     "execution_count": 22,
     "metadata": {},
     "output_type": "execute_result"
    }
   ],
   "source": [
    "sp_tm_arrest_counts = arrest_data[arrest_data[\"POSITION\"].isin(sp_teams_pos)==True][\"CATEGORY\"].value_counts()\n",
    "sp_tm_arrest_counts"
   ]
  },
  {
   "cell_type": "markdown",
   "metadata": {},
   "source": [
    "<font size=\"5\">DUI Cases by Positon Group"
   ]
  },
  {
   "cell_type": "code",
   "execution_count": 23,
   "metadata": {},
   "outputs": [
    {
     "data": {
      "text/plain": [
       "POSITION\n",
       "WR    37\n",
       "CB    34\n",
       "LB    25\n",
       "DE    22\n",
       "S     17\n",
       "Name: count, dtype: int64"
      ]
     },
     "execution_count": 23,
     "metadata": {},
     "output_type": "execute_result"
    }
   ],
   "source": [
    "dui_by_position = arrest_data.loc[arrest_data[\"CATEGORY\"] == \"DUI\", :][\"POSITION\"].value_counts()\n",
    "dui_by_position.head()"
   ]
  },
  {
   "cell_type": "markdown",
   "metadata": {},
   "source": [
    "<font size=\"5\">Domestic Violence Cases by Positon Group"
   ]
  },
  {
   "cell_type": "code",
   "execution_count": 24,
   "metadata": {},
   "outputs": [
    {
     "data": {
      "text/plain": [
       "POSITION\n",
       "RB    16\n",
       "LB    13\n",
       "WR    10\n",
       "OT    10\n",
       "DT     9\n",
       "Name: count, dtype: int64"
      ]
     },
     "execution_count": 24,
     "metadata": {},
     "output_type": "execute_result"
    }
   ],
   "source": [
    "dv_by_position = arrest_data.loc[arrest_data[\"CATEGORY\"] == \"Domestic violence\", :][\"POSITION\"].value_counts()\n",
    "dv_by_position.head()"
   ]
  },
  {
   "cell_type": "markdown",
   "metadata": {},
   "source": [
    "<font size=\"5\">Drug Related Cases by Positon Group"
   ]
  },
  {
   "cell_type": "code",
   "execution_count": 25,
   "metadata": {},
   "outputs": [
    {
     "data": {
      "text/plain": [
       "POSITION\n",
       "WR    17\n",
       "RB    15\n",
       "CB    14\n",
       "DE    13\n",
       "DT    11\n",
       "Name: count, dtype: int64"
      ]
     },
     "execution_count": 25,
     "metadata": {},
     "output_type": "execute_result"
    }
   ],
   "source": [
    "drugpos_by_position = arrest_data.loc[arrest_data[\"CATEGORY\"] == \"Drugs\", :][\"POSITION\"].value_counts()\n",
    "drugpos_by_position.head()"
   ]
  },
  {
   "cell_type": "markdown",
   "metadata": {},
   "source": [
    "<font size=\"5\">Assault Related Cases by Positon Group"
   ]
  },
  {
   "cell_type": "code",
   "execution_count": 26,
   "metadata": {},
   "outputs": [
    {
     "data": {
      "text/plain": [
       "POSITION\n",
       "LB    14\n",
       "CB    12\n",
       "WR    12\n",
       "RB     7\n",
       "S      5\n",
       "Name: count, dtype: int64"
      ]
     },
     "execution_count": 26,
     "metadata": {},
     "output_type": "execute_result"
    }
   ],
   "source": [
    "assault_by_position = arrest_data.loc[arrest_data[\"CATEGORY\"] == \"Assault\", :][\"POSITION\"].value_counts()\n",
    "assault_by_position.head()"
   ]
  },
  {
   "cell_type": "markdown",
   "metadata": {},
   "source": [
    "<font size=\"5\">Disorderly Conduct Cases by Positon Group"
   ]
  },
  {
   "cell_type": "code",
   "execution_count": 27,
   "metadata": {},
   "outputs": [
    {
     "data": {
      "text/plain": [
       "POSITION\n",
       "WR    8\n",
       "CB    7\n",
       "OT    6\n",
       "DT    5\n",
       "RB    5\n",
       "Name: count, dtype: int64"
      ]
     },
     "execution_count": 27,
     "metadata": {},
     "output_type": "execute_result"
    }
   ],
   "source": [
    "dc_by_position = arrest_data.loc[arrest_data[\"CATEGORY\"] == \"Disorderly conduct\", :][\"POSITION\"].value_counts()\n",
    "dc_by_position.head()"
   ]
  },
  {
   "cell_type": "markdown",
   "metadata": {},
   "source": [
    "<font size=\"5\">Total Infractions by Season"
   ]
  },
  {
   "cell_type": "code",
   "execution_count": 28,
   "metadata": {},
   "outputs": [
    {
     "data": {
      "text/plain": [
       "YEAR\n",
       "2017    12\n",
       "2016    26\n",
       "2015    40\n",
       "2014    51\n",
       "2013    62\n",
       "2012    47\n",
       "2011    48\n",
       "2010    54\n",
       "2009    52\n",
       "2008    68\n",
       "2007    63\n",
       "2006    71\n",
       "2005    48\n",
       "2004    39\n",
       "2003    43\n",
       "2002    43\n",
       "2001    44\n",
       "2000    39\n",
       "Name: count, dtype: int64"
      ]
     },
     "execution_count": 28,
     "metadata": {},
     "output_type": "execute_result"
    }
   ],
   "source": [
    "arrests_each_year = arrest_data[\"YEAR\"].value_counts(sort=False)\n",
    "arrests_each_year"
   ]
  },
  {
   "cell_type": "markdown",
   "metadata": {},
   "source": [
    "<font size=\"5\">Categories by Season"
   ]
  },
  {
   "cell_type": "code",
   "execution_count": 29,
   "metadata": {},
   "outputs": [
    {
     "data": {
      "text/plain": [
       "YEAR\n",
       "2016     9\n",
       "2015     8\n",
       "2014     9\n",
       "2013    15\n",
       "2012    17\n",
       "2011     8\n",
       "2010    17\n",
       "2009    11\n",
       "2008    16\n",
       "2007    12\n",
       "2006    19\n",
       "2005    11\n",
       "2004    16\n",
       "2003    14\n",
       "2002    14\n",
       "2001    10\n",
       "2000     9\n",
       "Name: count, dtype: int64"
      ]
     },
     "execution_count": 29,
     "metadata": {},
     "output_type": "execute_result"
    }
   ],
   "source": [
    "dui_by_year = arrest_data.loc[arrest_data[\"CATEGORY\"] == \"DUI\", :][\"YEAR\"].value_counts(sort=False)\n",
    "dui_by_year"
   ]
  },
  {
   "cell_type": "code",
   "execution_count": 30,
   "metadata": {},
   "outputs": [
    {
     "data": {
      "text/plain": [
       "YEAR\n",
       "2017     4\n",
       "2016     5\n",
       "2015     6\n",
       "2014     9\n",
       "2013     7\n",
       "2012    10\n",
       "2011     8\n",
       "2010     2\n",
       "2009     4\n",
       "2008    14\n",
       "2007     7\n",
       "2006     6\n",
       "2005     1\n",
       "2004     2\n",
       "2003     4\n",
       "2002     1\n",
       "2001     5\n",
       "2000     4\n",
       "Name: count, dtype: int64"
      ]
     },
     "execution_count": 30,
     "metadata": {},
     "output_type": "execute_result"
    }
   ],
   "source": [
    "drugpos_by_year = arrest_data.loc[arrest_data[\"CATEGORY\"] == \"Drugs\", :][\"YEAR\"].value_counts(sort=False)\n",
    "drugpos_by_year"
   ]
  },
  {
   "cell_type": "code",
   "execution_count": 31,
   "metadata": {},
   "outputs": [
    {
     "data": {
      "text/plain": [
       "YEAR\n",
       "2017     1\n",
       "2016     2\n",
       "2015     7\n",
       "2014     5\n",
       "2013     7\n",
       "2012     3\n",
       "2011     3\n",
       "2010     6\n",
       "2009     5\n",
       "2008    10\n",
       "2007     6\n",
       "2006    10\n",
       "2005    10\n",
       "2004     3\n",
       "2003     4\n",
       "2002     4\n",
       "2001     8\n",
       "2000     5\n",
       "Name: count, dtype: int64"
      ]
     },
     "execution_count": 31,
     "metadata": {},
     "output_type": "execute_result"
    }
   ],
   "source": [
    "dv_by_year = arrest_data.loc[arrest_data['CATEGORY'].isin(domestic_violence_terms)][\"YEAR\"].value_counts(sort=False)\n",
    "dv_by_year"
   ]
  },
  {
   "cell_type": "code",
   "execution_count": 32,
   "metadata": {},
   "outputs": [
    {
     "data": {
      "text/plain": [
       "YEAR\n",
       "2017    2\n",
       "2016    3\n",
       "2015    2\n",
       "2014    5\n",
       "2013    3\n",
       "2012    2\n",
       "2011    7\n",
       "2010    4\n",
       "2009    7\n",
       "2008    7\n",
       "2007    6\n",
       "2006    6\n",
       "2005    1\n",
       "2004    5\n",
       "2003    2\n",
       "2002    3\n",
       "2001    4\n",
       "2000    2\n",
       "Name: count, dtype: int64"
      ]
     },
     "execution_count": 32,
     "metadata": {},
     "output_type": "execute_result"
    }
   ],
   "source": [
    "assault_by_year = arrest_data.loc[arrest_data[\"CATEGORY\"] == \"Assault\", :][\"YEAR\"].value_counts(sort=False)\n",
    "assault_by_year"
   ]
  },
  {
   "cell_type": "code",
   "execution_count": 33,
   "metadata": {},
   "outputs": [
    {
     "data": {
      "text/plain": [
       "YEAR\n",
       "2017    1\n",
       "2014    3\n",
       "2013    2\n",
       "2012    2\n",
       "2011    1\n",
       "2010    3\n",
       "2009    3\n",
       "2008    3\n",
       "2007    4\n",
       "2006    5\n",
       "2005    3\n",
       "2004    2\n",
       "2003    4\n",
       "2001    4\n",
       "2000    3\n",
       "Name: count, dtype: int64"
      ]
     },
     "execution_count": 33,
     "metadata": {},
     "output_type": "execute_result"
    }
   ],
   "source": [
    "disorderly_conduct_by_year = arrest_data.loc[arrest_data[\"CATEGORY\"] == \"Disorderly conduct\", :][\"YEAR\"].value_counts(sort=False)\n",
    "disorderly_conduct_by_year"
   ]
  },
  {
   "cell_type": "markdown",
   "metadata": {},
   "source": [
    "<font size=\"5\">Players Arrested by Season"
   ]
  },
  {
   "cell_type": "code",
   "execution_count": 34,
   "metadata": {},
   "outputs": [
    {
     "ename": "KeyError",
     "evalue": "'RELEASED'",
     "output_type": "error",
     "traceback": [
      "\u001b[0;31m---------------------------------------------------------------------------\u001b[0m",
      "\u001b[0;31mKeyError\u001b[0m                                  Traceback (most recent call last)",
      "File \u001b[0;32m~/anaconda3/envs/dev/lib/python3.10/site-packages/pandas/core/indexes/base.py:3653\u001b[0m, in \u001b[0;36mIndex.get_loc\u001b[0;34m(self, key)\u001b[0m\n\u001b[1;32m   3652\u001b[0m \u001b[38;5;28;01mtry\u001b[39;00m:\n\u001b[0;32m-> 3653\u001b[0m     \u001b[38;5;28;01mreturn\u001b[39;00m \u001b[38;5;28;43mself\u001b[39;49m\u001b[38;5;241;43m.\u001b[39;49m\u001b[43m_engine\u001b[49m\u001b[38;5;241;43m.\u001b[39;49m\u001b[43mget_loc\u001b[49m\u001b[43m(\u001b[49m\u001b[43mcasted_key\u001b[49m\u001b[43m)\u001b[49m\n\u001b[1;32m   3654\u001b[0m \u001b[38;5;28;01mexcept\u001b[39;00m \u001b[38;5;167;01mKeyError\u001b[39;00m \u001b[38;5;28;01mas\u001b[39;00m err:\n",
      "File \u001b[0;32m~/anaconda3/envs/dev/lib/python3.10/site-packages/pandas/_libs/index.pyx:147\u001b[0m, in \u001b[0;36mpandas._libs.index.IndexEngine.get_loc\u001b[0;34m()\u001b[0m\n",
      "File \u001b[0;32m~/anaconda3/envs/dev/lib/python3.10/site-packages/pandas/_libs/index.pyx:176\u001b[0m, in \u001b[0;36mpandas._libs.index.IndexEngine.get_loc\u001b[0;34m()\u001b[0m\n",
      "File \u001b[0;32mpandas/_libs/hashtable_class_helper.pxi:7080\u001b[0m, in \u001b[0;36mpandas._libs.hashtable.PyObjectHashTable.get_item\u001b[0;34m()\u001b[0m\n",
      "File \u001b[0;32mpandas/_libs/hashtable_class_helper.pxi:7088\u001b[0m, in \u001b[0;36mpandas._libs.hashtable.PyObjectHashTable.get_item\u001b[0;34m()\u001b[0m\n",
      "\u001b[0;31mKeyError\u001b[0m: 'RELEASED'",
      "\nThe above exception was the direct cause of the following exception:\n",
      "\u001b[0;31mKeyError\u001b[0m                                  Traceback (most recent call last)",
      "Cell \u001b[0;32mIn[34], line 1\u001b[0m\n\u001b[0;32m----> 1\u001b[0m arrest_data[\u001b[43marrest_data\u001b[49m\u001b[43m[\u001b[49m\u001b[38;5;124;43m'\u001b[39;49m\u001b[38;5;124;43mRELEASED\u001b[39;49m\u001b[38;5;124;43m'\u001b[39;49m\u001b[43m]\u001b[49m \u001b[38;5;241m==\u001b[39m \u001b[38;5;124m'\u001b[39m\u001b[38;5;124myes\u001b[39m\u001b[38;5;124m'\u001b[39m][\u001b[38;5;124m'\u001b[39m\u001b[38;5;124mYEAR\u001b[39m\u001b[38;5;124m'\u001b[39m]\u001b[38;5;241m.\u001b[39mvalue_counts(sort\u001b[38;5;241m=\u001b[39m\u001b[38;5;28;01mFalse\u001b[39;00m)\n",
      "File \u001b[0;32m~/anaconda3/envs/dev/lib/python3.10/site-packages/pandas/core/frame.py:3761\u001b[0m, in \u001b[0;36mDataFrame.__getitem__\u001b[0;34m(self, key)\u001b[0m\n\u001b[1;32m   3759\u001b[0m \u001b[38;5;28;01mif\u001b[39;00m \u001b[38;5;28mself\u001b[39m\u001b[38;5;241m.\u001b[39mcolumns\u001b[38;5;241m.\u001b[39mnlevels \u001b[38;5;241m>\u001b[39m \u001b[38;5;241m1\u001b[39m:\n\u001b[1;32m   3760\u001b[0m     \u001b[38;5;28;01mreturn\u001b[39;00m \u001b[38;5;28mself\u001b[39m\u001b[38;5;241m.\u001b[39m_getitem_multilevel(key)\n\u001b[0;32m-> 3761\u001b[0m indexer \u001b[38;5;241m=\u001b[39m \u001b[38;5;28;43mself\u001b[39;49m\u001b[38;5;241;43m.\u001b[39;49m\u001b[43mcolumns\u001b[49m\u001b[38;5;241;43m.\u001b[39;49m\u001b[43mget_loc\u001b[49m\u001b[43m(\u001b[49m\u001b[43mkey\u001b[49m\u001b[43m)\u001b[49m\n\u001b[1;32m   3762\u001b[0m \u001b[38;5;28;01mif\u001b[39;00m is_integer(indexer):\n\u001b[1;32m   3763\u001b[0m     indexer \u001b[38;5;241m=\u001b[39m [indexer]\n",
      "File \u001b[0;32m~/anaconda3/envs/dev/lib/python3.10/site-packages/pandas/core/indexes/base.py:3655\u001b[0m, in \u001b[0;36mIndex.get_loc\u001b[0;34m(self, key)\u001b[0m\n\u001b[1;32m   3653\u001b[0m     \u001b[38;5;28;01mreturn\u001b[39;00m \u001b[38;5;28mself\u001b[39m\u001b[38;5;241m.\u001b[39m_engine\u001b[38;5;241m.\u001b[39mget_loc(casted_key)\n\u001b[1;32m   3654\u001b[0m \u001b[38;5;28;01mexcept\u001b[39;00m \u001b[38;5;167;01mKeyError\u001b[39;00m \u001b[38;5;28;01mas\u001b[39;00m err:\n\u001b[0;32m-> 3655\u001b[0m     \u001b[38;5;28;01mraise\u001b[39;00m \u001b[38;5;167;01mKeyError\u001b[39;00m(key) \u001b[38;5;28;01mfrom\u001b[39;00m \u001b[38;5;21;01merr\u001b[39;00m\n\u001b[1;32m   3656\u001b[0m \u001b[38;5;28;01mexcept\u001b[39;00m \u001b[38;5;167;01mTypeError\u001b[39;00m:\n\u001b[1;32m   3657\u001b[0m     \u001b[38;5;66;03m# If we have a listlike key, _check_indexing_error will raise\u001b[39;00m\n\u001b[1;32m   3658\u001b[0m     \u001b[38;5;66;03m#  InvalidIndexError. Otherwise we fall through and re-raise\u001b[39;00m\n\u001b[1;32m   3659\u001b[0m     \u001b[38;5;66;03m#  the TypeError.\u001b[39;00m\n\u001b[1;32m   3660\u001b[0m     \u001b[38;5;28mself\u001b[39m\u001b[38;5;241m.\u001b[39m_check_indexing_error(key)\n",
      "\u001b[0;31mKeyError\u001b[0m: 'RELEASED'"
     ]
    }
   ],
   "source": [
    "arrest_data[arrest_data['RELEASED'] == 'yes']['YEAR'].value_counts(sort=False)"
   ]
  },
  {
   "cell_type": "markdown",
   "metadata": {},
   "source": [
    "<font size=\"5\">Players Arrested by Position"
   ]
  },
  {
   "cell_type": "code",
   "execution_count": null,
   "metadata": {},
   "outputs": [],
   "source": [
    "arrest_data[arrest_data['RELEASED'] == 'yes']['POSITION'].value_counts()"
   ]
  },
  {
   "cell_type": "markdown",
   "metadata": {},
   "source": [
    "<font size='5'>Deeper Dive into Domestic Violence Looking into Repeat Offenders"
   ]
  },
  {
   "cell_type": "code",
   "execution_count": null,
   "metadata": {},
   "outputs": [],
   "source": [
    "dv_data = arrest_data.loc[arrest_data['CATEGORY'].isin(domestic_violence_terms)==True]\n",
    "duplicateRows = dv_data[dv_data.duplicated(['NAME'])]\n",
    "dupeNames = duplicateRows['NAME']\n",
    "\n",
    "dv_data"
   ]
  },
  {
   "cell_type": "code",
   "execution_count": null,
   "metadata": {},
   "outputs": [],
   "source": [
    "repeatOffenders = dv_data.loc[dv_data['NAME'].isin(dupeNames)==True].sort_values(by=['NAME','YEAR'])\n",
    "repeatOffenders"
   ]
  },
  {
   "cell_type": "markdown",
   "metadata": {},
   "source": [
    "<font size=\"5\">Players Released"
   ]
  },
  {
   "cell_type": "code",
   "execution_count": null,
   "metadata": {},
   "outputs": [],
   "source": [
    "arrested_players = arrest_data.loc[arrest_data['RELEASED'] == 'yes']\n",
    "arrested_players.head()"
   ]
  },
  {
   "cell_type": "markdown",
   "metadata": {},
   "source": [
    "<font size=\"5\">Violent Crimes by Year"
   ]
  },
  {
   "cell_type": "code",
   "execution_count": null,
   "metadata": {},
   "outputs": [],
   "source": [
    "violent_crimes_data = arrest_data[arrest_data[\"CATEGORY\"].isin(violent_crimes)==True]\n",
    "violent_crimes_data['YEAR'].value_counts(sort=False)\n"
   ]
  },
  {
   "cell_type": "markdown",
   "metadata": {},
   "source": [
    "<font size=\"5\">Violent Crimes by Position"
   ]
  },
  {
   "cell_type": "code",
   "execution_count": null,
   "metadata": {},
   "outputs": [],
   "source": [
    "violent_crimes_data = arrest_data[arrest_data[\"CATEGORY\"].isin(violent_crimes)==True]\n",
    "violent_crimes_data['POSITION'].value_counts()"
   ]
  },
  {
   "cell_type": "markdown",
   "metadata": {},
   "source": [
    "<font size=\"5\">Violent Crimes by Players in Box"
   ]
  },
  {
   "cell_type": "code",
   "execution_count": null,
   "metadata": {},
   "outputs": [],
   "source": [
    "in_the_box_violent_crimes = violent_crimes_data[violent_crimes_data['POSITION'].isin(players_in_box)==True]\n",
    "in_the_box_violent_crimes['POSITION'].value_counts()"
   ]
  },
  {
   "cell_type": "code",
   "execution_count": null,
   "metadata": {},
   "outputs": [],
   "source": [
    "in_the_box_crimes = arrest_data[arrest_data['POSITION'].isin(players_in_box)==True]\n",
    "in_the_box_crimes['POSITION'].value_counts()"
   ]
  },
  {
   "cell_type": "code",
   "execution_count": null,
   "metadata": {},
   "outputs": [],
   "source": [
    "wee_db = arrest_data.loc[arrest_data['WEED?'] == 'yes', :]\n",
    "wee_db"
   ]
  }
 ],
 "metadata": {
  "kernelspec": {
   "display_name": "Python 3 (ipykernel)",
   "language": "python",
   "name": "python3"
  },
  "language_info": {
   "codemirror_mode": {
    "name": "ipython",
    "version": 3
   },
   "file_extension": ".py",
   "mimetype": "text/x-python",
   "name": "python",
   "nbconvert_exporter": "python",
   "pygments_lexer": "ipython3",
   "version": "3.11.5"
  }
 },
 "nbformat": 4,
 "nbformat_minor": 2
}

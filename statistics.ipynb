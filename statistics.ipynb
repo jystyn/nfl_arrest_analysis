{
 "cells": [
  {
   "cell_type": "code",
   "execution_count": 1,
   "metadata": {},
   "outputs": [],
   "source": [
    "# Dependencies\n",
    "from matplotlib import pyplot as plt\n",
    "from scipy import stats\n",
    "import numpy as np\n",
    "import pandas as pd"
   ]
  },
  {
   "cell_type": "markdown",
   "metadata": {},
   "source": [
    "This is what I added and then I added this"
   ]
  },
  {
   "cell_type": "code",
   "execution_count": 2,
   "metadata": {},
   "outputs": [
    {
     "data": {
      "text/html": [
       "<div>\n",
       "<style scoped>\n",
       "    .dataframe tbody tr th:only-of-type {\n",
       "        vertical-align: middle;\n",
       "    }\n",
       "\n",
       "    .dataframe tbody tr th {\n",
       "        vertical-align: top;\n",
       "    }\n",
       "\n",
       "    .dataframe thead th {\n",
       "        text-align: right;\n",
       "    }\n",
       "</style>\n",
       "<table border=\"1\" class=\"dataframe\">\n",
       "  <thead>\n",
       "    <tr style=\"text-align: right;\">\n",
       "      <th></th>\n",
       "      <th>DATE</th>\n",
       "      <th>TEAM</th>\n",
       "      <th>NAME</th>\n",
       "      <th>POSITION</th>\n",
       "      <th>CASE</th>\n",
       "      <th>CATEGORY</th>\n",
       "      <th>DESCRIPTION</th>\n",
       "      <th>OUTCOME</th>\n",
       "      <th>YEAR</th>\n",
       "    </tr>\n",
       "  </thead>\n",
       "  <tbody>\n",
       "    <tr>\n",
       "      <th>0</th>\n",
       "      <td>3/27/2017</td>\n",
       "      <td>SEA</td>\n",
       "      <td>Trevone Boykin</td>\n",
       "      <td>QB</td>\n",
       "      <td>Arrested</td>\n",
       "      <td>Drugs</td>\n",
       "      <td>Accused of marijuana possession, public intoxi...</td>\n",
       "      <td>Resolution undetermined.</td>\n",
       "      <td>2017</td>\n",
       "    </tr>\n",
       "    <tr>\n",
       "      <th>1</th>\n",
       "      <td>3/26/2017</td>\n",
       "      <td>CHI</td>\n",
       "      <td>Deiondre Hall</td>\n",
       "      <td>CB</td>\n",
       "      <td>Arrested</td>\n",
       "      <td>Disorderly conduct</td>\n",
       "      <td>Accused of disorderly conduct, public intoxica...</td>\n",
       "      <td>Resolution undetermined.</td>\n",
       "      <td>2017</td>\n",
       "    </tr>\n",
       "    <tr>\n",
       "      <th>2</th>\n",
       "      <td>3/26/2017</td>\n",
       "      <td>GB</td>\n",
       "      <td>Makinton Dorleant</td>\n",
       "      <td>CB</td>\n",
       "      <td>Arrested</td>\n",
       "      <td>Police interference</td>\n",
       "      <td>Accused of interfence after scuffle outside of...</td>\n",
       "      <td>Resolution undetermined.</td>\n",
       "      <td>2017</td>\n",
       "    </tr>\n",
       "    <tr>\n",
       "      <th>3</th>\n",
       "      <td>3/7/2017</td>\n",
       "      <td>KC</td>\n",
       "      <td>Demetrius Harris</td>\n",
       "      <td>TE</td>\n",
       "      <td>Arrested</td>\n",
       "      <td>Drugs</td>\n",
       "      <td>Suspected of felony marijuana possession as pa...</td>\n",
       "      <td>Resolution undetermined.</td>\n",
       "      <td>2017</td>\n",
       "    </tr>\n",
       "    <tr>\n",
       "      <th>4</th>\n",
       "      <td>3/5/2017</td>\n",
       "      <td>LAR</td>\n",
       "      <td>Ethan Westbrooks</td>\n",
       "      <td>DT</td>\n",
       "      <td>Arrested</td>\n",
       "      <td>Domestic violence</td>\n",
       "      <td>Suspected of domestic violence in Sacramento a...</td>\n",
       "      <td>Resolution undetermined.</td>\n",
       "      <td>2017</td>\n",
       "    </tr>\n",
       "  </tbody>\n",
       "</table>\n",
       "</div>"
      ],
      "text/plain": [
       "        DATE TEAM               NAME POSITION      CASE             CATEGORY  \\\n",
       "0  3/27/2017  SEA     Trevone Boykin       QB  Arrested                Drugs   \n",
       "1  3/26/2017  CHI      Deiondre Hall       CB  Arrested   Disorderly conduct   \n",
       "2  3/26/2017   GB  Makinton Dorleant       CB  Arrested  Police interference   \n",
       "3   3/7/2017   KC   Demetrius Harris       TE  Arrested                Drugs   \n",
       "4   3/5/2017  LAR   Ethan Westbrooks       DT  Arrested    Domestic violence   \n",
       "\n",
       "                                         DESCRIPTION  \\\n",
       "0  Accused of marijuana possession, public intoxi...   \n",
       "1  Accused of disorderly conduct, public intoxica...   \n",
       "2  Accused of interfence after scuffle outside of...   \n",
       "3  Suspected of felony marijuana possession as pa...   \n",
       "4  Suspected of domestic violence in Sacramento a...   \n",
       "\n",
       "                    OUTCOME  YEAR  \n",
       "0  Resolution undetermined.  2017  \n",
       "1  Resolution undetermined.  2017  \n",
       "2  Resolution undetermined.  2017  \n",
       "3  Resolution undetermined.  2017  \n",
       "4  Resolution undetermined.  2017  "
      ]
     },
     "execution_count": 2,
     "metadata": {},
     "output_type": "execute_result"
    }
   ],
   "source": [
    "#offense, defense, and special teams groups\n",
    "offense_pos = [\"QB\", \"RB\", \"FB\", \"WR\", \"TE\", \"OT\", \"OG\", \"C\", \"OL\"]\n",
    "defense_pos = [\"DE\", \"DT\", \"DE/DT\", \"LB\", \"CB\", \"S\", \"DB\"]\n",
    "sp_teams_pos = [\"K\", \"P\"]\n",
    "\n",
    "arrest_data = pd.read_csv('Resources/ArrestIncidents.csv')\n",
    "arrest_data[\"YEAR\"] = arrest_data[\"DATE\"].str[-4:]\n",
    "\n",
    "arrest_data.head()"
   ]
  },
  {
   "cell_type": "code",
   "execution_count": 3,
   "metadata": {},
   "outputs": [
    {
     "data": {
      "text/plain": [
       "TEAM\n",
       "MIN    49\n",
       "DEN    47\n",
       "CIN    44\n",
       "TEN    36\n",
       "TB     36\n",
       "Name: count, dtype: int64"
      ]
     },
     "execution_count": 3,
     "metadata": {},
     "output_type": "execute_result"
    }
   ],
   "source": [
    "team_count = arrest_data[\"TEAM\"].value_counts()\n",
    "team_count.head()"
   ]
  },
  {
   "cell_type": "code",
   "execution_count": 4,
   "metadata": {},
   "outputs": [
    {
     "data": {
      "text/plain": [
       "CATEGORY\n",
       "DUI                        17\n",
       "Assault                     7\n",
       "Disorderly conduct, sex     4\n",
       "Drugs                       3\n",
       "Domestic violence           3\n",
       "Name: count, dtype: int64"
      ]
     },
     "execution_count": 4,
     "metadata": {},
     "output_type": "execute_result"
    }
   ],
   "source": [
    "min_arrest_counts = arrest_data.loc[arrest_data[\"TEAM\"] == \"MIN\", :][\"CATEGORY\"].value_counts()\n",
    "min_arrest_counts.head()"
   ]
  },
  {
   "cell_type": "code",
   "execution_count": 5,
   "metadata": {
    "scrolled": true
   },
   "outputs": [
    {
     "data": {
      "text/plain": [
       "CATEGORY\n",
       "DUI                   12\n",
       "Domestic violence     11\n",
       "Assault                4\n",
       "Disorderly conduct     3\n",
       "License                2\n",
       "Name: count, dtype: int64"
      ]
     },
     "execution_count": 5,
     "metadata": {},
     "output_type": "execute_result"
    }
   ],
   "source": [
    "den_arrest_counts = arrest_data.loc[arrest_data[\"TEAM\"] == \"DEN\", :][\"CATEGORY\"].value_counts()\n",
    "den_arrest_counts.head()"
   ]
  },
  {
   "cell_type": "code",
   "execution_count": 6,
   "metadata": {},
   "outputs": [
    {
     "data": {
      "text/plain": [
       "CATEGORY\n",
       "Assault               9\n",
       "DUI                   9\n",
       "Domestic violence     5\n",
       "Gun                   4\n",
       "Disorderly conduct    3\n",
       "Name: count, dtype: int64"
      ]
     },
     "execution_count": 6,
     "metadata": {},
     "output_type": "execute_result"
    }
   ],
   "source": [
    "cin_arrest_counts = arrest_data.loc[arrest_data[\"TEAM\"] == \"CIN\", :][\"CATEGORY\"].value_counts()\n",
    "cin_arrest_counts.head()"
   ]
  },
  {
   "cell_type": "code",
   "execution_count": 7,
   "metadata": {},
   "outputs": [
    {
     "data": {
      "text/plain": [
       "NAME\n",
       "Adam Jones         10\n",
       "Kenny Britt         7\n",
       "Chris Henry         6\n",
       "Aldon Smith         5\n",
       "Bryant McKinnie     4\n",
       "Name: count, dtype: int64"
      ]
     },
     "execution_count": 7,
     "metadata": {},
     "output_type": "execute_result"
    }
   ],
   "source": [
    "player_arrest_count = arrest_data[\"NAME\"].value_counts()\n",
    "player_arrest_count.head()"
   ]
  },
  {
   "cell_type": "code",
   "execution_count": 8,
   "metadata": {},
   "outputs": [
    {
     "data": {
      "text/plain": [
       "POSITION\n",
       "WR       136\n",
       "LB       118\n",
       "CB       112\n",
       "RB        97\n",
       "DT        77\n",
       "S         70\n",
       "DE        68\n",
       "OT        49\n",
       "TE        39\n",
       "OG        25\n",
       "QB        18\n",
       "FB        15\n",
       "K         12\n",
       "C          5\n",
       "DB         4\n",
       "P          3\n",
       "OL         1\n",
       "DE/DT      1\n",
       "Name: count, dtype: int64"
      ]
     },
     "execution_count": 8,
     "metadata": {},
     "output_type": "execute_result"
    }
   ],
   "source": [
    "position_count = arrest_data[\"POSITION\"].value_counts()\n",
    "position_count"
   ]
  },
  {
   "cell_type": "code",
   "execution_count": 9,
   "metadata": {},
   "outputs": [
    {
     "data": {
      "text/plain": [
       "CASE\n",
       "Arrested       731\n",
       "Charged         52\n",
       "Cited           31\n",
       "Surrendered     14\n",
       "Indicted        12\n",
       "Summoned         4\n",
       "Warrant          3\n",
       "Detained         1\n",
       "Died             1\n",
       "Jailed           1\n",
       "Name: count, dtype: int64"
      ]
     },
     "execution_count": 9,
     "metadata": {},
     "output_type": "execute_result"
    }
   ],
   "source": [
    "case_type_count = arrest_data[\"CASE\"].value_counts()\n",
    "case_type_count"
   ]
  },
  {
   "cell_type": "code",
   "execution_count": 10,
   "metadata": {},
   "outputs": [
    {
     "data": {
      "text/plain": [
       "CATEGORY\n",
       "DUI                      215\n",
       "Drugs                     99\n",
       "Domestic violence         94\n",
       "Assault                   71\n",
       "Disorderly conduct        43\n",
       "                        ... \n",
       "Traffic warrant            1\n",
       "Handicap parking           1\n",
       "Animal neglect             1\n",
       "Gun, privacy invasion      1\n",
       "Murder                     1\n",
       "Name: count, Length: 107, dtype: int64"
      ]
     },
     "execution_count": 10,
     "metadata": {},
     "output_type": "execute_result"
    }
   ],
   "source": [
    "category_count = arrest_data[\"CATEGORY\"].value_counts()\n",
    "category_count"
   ]
  },
  {
   "cell_type": "code",
   "execution_count": 11,
   "metadata": {},
   "outputs": [
    {
     "data": {
      "text/plain": [
       "OUTCOME\n",
       "Resolution undetermined.    166\n",
       "Charge dropped.              51\n",
       "Charges dropped.             23\n",
       "Acquitted.                   10\n",
       "Diversion program.            9\n",
       "Name: count, dtype: int64"
      ]
     },
     "execution_count": 11,
     "metadata": {},
     "output_type": "execute_result"
    }
   ],
   "source": [
    "outcome_count = arrest_data[\"OUTCOME\"].value_counts()\n",
    "outcome_count.head()"
   ]
  },
  {
   "cell_type": "code",
   "execution_count": 12,
   "metadata": {},
   "outputs": [
    {
     "data": {
      "text/plain": [
       "CATEGORY\n",
       "DUI                   37\n",
       "Drugs                 17\n",
       "Assault               12\n",
       "Domestic violence     10\n",
       "Disorderly conduct     8\n",
       "Name: count, dtype: int64"
      ]
     },
     "execution_count": 12,
     "metadata": {},
     "output_type": "execute_result"
    }
   ],
   "source": [
    "#Categories for WR arrests\n",
    "wr_arrest_counts = arrest_data.loc[arrest_data[\"POSITION\"] == \"WR\", :][\"CATEGORY\"].value_counts()\n",
    "wr_arrest_counts.head()"
   ]
  },
  {
   "cell_type": "code",
   "execution_count": 13,
   "metadata": {},
   "outputs": [
    {
     "data": {
      "text/plain": [
       "CATEGORY\n",
       "DUI                  25\n",
       "Assault              14\n",
       "Domestic violence    13\n",
       "Drugs                 9\n",
       "Battery               6\n",
       "Name: count, dtype: int64"
      ]
     },
     "execution_count": 13,
     "metadata": {},
     "output_type": "execute_result"
    }
   ],
   "source": [
    "#Categories for LB arrests\n",
    "lb_arrest_counts = arrest_data.loc[arrest_data[\"POSITION\"] == \"LB\", :][\"CATEGORY\"].value_counts()\n",
    "lb_arrest_counts.head()"
   ]
  },
  {
   "cell_type": "code",
   "execution_count": 14,
   "metadata": {},
   "outputs": [
    {
     "data": {
      "text/plain": [
       "CATEGORY\n",
       "DUI                   34\n",
       "Drugs                 14\n",
       "Assault               12\n",
       "Domestic violence      9\n",
       "Disorderly conduct     7\n",
       "Name: count, dtype: int64"
      ]
     },
     "execution_count": 14,
     "metadata": {},
     "output_type": "execute_result"
    }
   ],
   "source": [
    "#Categories for CB arrests\n",
    "cb_arrest_counts = arrest_data.loc[arrest_data[\"POSITION\"] == \"CB\", :][\"CATEGORY\"].value_counts()\n",
    "cb_arrest_counts.head()"
   ]
  },
  {
   "cell_type": "code",
   "execution_count": 15,
   "metadata": {},
   "outputs": [
    {
     "data": {
      "text/plain": [
       "CATEGORY\n",
       "Domestic violence     16\n",
       "Drugs                 15\n",
       "DUI                   15\n",
       "Assault                7\n",
       "Disorderly conduct     5\n",
       "Name: count, dtype: int64"
      ]
     },
     "execution_count": 15,
     "metadata": {},
     "output_type": "execute_result"
    }
   ],
   "source": [
    "#Categories for RB arrests\n",
    "rb_arrest_counts = arrest_data.loc[arrest_data[\"POSITION\"] == \"RB\", :][\"CATEGORY\"].value_counts()\n",
    "rb_arrest_counts.head()"
   ]
  },
  {
   "cell_type": "code",
   "execution_count": 16,
   "metadata": {},
   "outputs": [
    {
     "data": {
      "text/plain": [
       "CATEGORY\n",
       "DUI                   17\n",
       "Drugs                 11\n",
       "Domestic violence      9\n",
       "Disorderly conduct     5\n",
       "Gun                    4\n",
       "Name: count, dtype: int64"
      ]
     },
     "execution_count": 16,
     "metadata": {},
     "output_type": "execute_result"
    }
   ],
   "source": [
    "#Categories for DT arrests\n",
    "dt_arrest_counts = arrest_data.loc[arrest_data[\"POSITION\"] == \"DT\", :][\"CATEGORY\"].value_counts()\n",
    "dt_arrest_counts.head()"
   ]
  },
  {
   "cell_type": "code",
   "execution_count": 17,
   "metadata": {},
   "outputs": [
    {
     "data": {
      "text/plain": [
       "CATEGORY\n",
       "DUI                  17\n",
       "Domestic violence     7\n",
       "Gun                   6\n",
       "Drugs                 5\n",
       "Assault               5\n",
       "Name: count, dtype: int64"
      ]
     },
     "execution_count": 17,
     "metadata": {},
     "output_type": "execute_result"
    }
   ],
   "source": [
    "#Categories for S arrests\n",
    "saf_arrest_counts = arrest_data.loc[arrest_data[\"POSITION\"] == \"S\", :][\"CATEGORY\"].value_counts()\n",
    "saf_arrest_counts.head()"
   ]
  },
  {
   "cell_type": "code",
   "execution_count": 18,
   "metadata": {},
   "outputs": [
    {
     "data": {
      "text/plain": [
       "CATEGORY\n",
       "DUI                              116\n",
       "Drugs                             52\n",
       "Domestic violence                 47\n",
       "Assault                           38\n",
       "Disorderly conduct                19\n",
       "                                ... \n",
       "Stalking                           1\n",
       "DUI, assault                       1\n",
       "License, guns                      1\n",
       "Guns, drugs, reckless driving      1\n",
       "Murder                             1\n",
       "Name: count, Length: 83, dtype: int64"
      ]
     },
     "execution_count": 18,
     "metadata": {},
     "output_type": "execute_result"
    }
   ],
   "source": [
    "defense_arrest_counts = arrest_data[arrest_data[\"POSITION\"].isin(defense_pos)==True][\"CATEGORY\"].value_counts()\n",
    "defense_arrest_counts"
   ]
  },
  {
   "cell_type": "code",
   "execution_count": 19,
   "metadata": {},
   "outputs": [
    {
     "data": {
      "text/plain": [
       "CATEGORY\n",
       "DUI                    94\n",
       "Drugs                  46\n",
       "Domestic violence      46\n",
       "Assault                32\n",
       "Disorderly conduct     23\n",
       "                       ..\n",
       "DUI, manslaughter       1\n",
       "Domestic dispute        1\n",
       "Guns, drugs             1\n",
       "Probation violation     1\n",
       "Sexual assault          1\n",
       "Name: count, Length: 63, dtype: int64"
      ]
     },
     "execution_count": 19,
     "metadata": {},
     "output_type": "execute_result"
    }
   ],
   "source": [
    "offense_arrest_counts = arrest_data[arrest_data[\"POSITION\"].isin(offense_pos)==True][\"CATEGORY\"].value_counts()\n",
    "offense_arrest_counts"
   ]
  },
  {
   "cell_type": "code",
   "execution_count": 20,
   "metadata": {},
   "outputs": [
    {
     "data": {
      "text/plain": [
       "CATEGORY\n",
       "DUI                      5\n",
       "Alcohol                  2\n",
       "Violating court order    1\n",
       "Domestic violence        1\n",
       "Disorderly conduct       1\n",
       "Alcohol, assault         1\n",
       "Battery                  1\n",
       "Assault, alcohol         1\n",
       "Assault                  1\n",
       "Drugs                    1\n",
       "Name: count, dtype: int64"
      ]
     },
     "execution_count": 20,
     "metadata": {},
     "output_type": "execute_result"
    }
   ],
   "source": [
    "sp_tm_arrest_counts = arrest_data[arrest_data[\"POSITION\"].isin(sp_teams_pos)==True][\"CATEGORY\"].value_counts()\n",
    "sp_tm_arrest_counts"
   ]
  },
  {
   "cell_type": "code",
   "execution_count": 21,
   "metadata": {},
   "outputs": [
    {
     "data": {
      "text/plain": [
       "POSITION\n",
       "WR    37\n",
       "CB    34\n",
       "LB    25\n",
       "DE    22\n",
       "S     17\n",
       "Name: count, dtype: int64"
      ]
     },
     "execution_count": 21,
     "metadata": {},
     "output_type": "execute_result"
    }
   ],
   "source": [
    "dui_by_position = arrest_data.loc[arrest_data[\"CATEGORY\"] == \"DUI\", :][\"POSITION\"].value_counts()\n",
    "dui_by_position.head()"
   ]
  },
  {
   "cell_type": "code",
   "execution_count": 22,
   "metadata": {},
   "outputs": [
    {
     "data": {
      "text/plain": [
       "POSITION\n",
       "RB    16\n",
       "LB    13\n",
       "WR    10\n",
       "OT    10\n",
       "DT     9\n",
       "Name: count, dtype: int64"
      ]
     },
     "execution_count": 22,
     "metadata": {},
     "output_type": "execute_result"
    }
   ],
   "source": [
    "dv_by_position = arrest_data.loc[arrest_data[\"CATEGORY\"] == \"Domestic violence\", :][\"POSITION\"].value_counts()\n",
    "dv_by_position.head()"
   ]
  },
  {
   "cell_type": "code",
   "execution_count": 23,
   "metadata": {},
   "outputs": [
    {
     "data": {
      "text/plain": [
       "POSITION\n",
       "WR    17\n",
       "RB    15\n",
       "CB    14\n",
       "DE    13\n",
       "DT    11\n",
       "Name: count, dtype: int64"
      ]
     },
     "execution_count": 23,
     "metadata": {},
     "output_type": "execute_result"
    }
   ],
   "source": [
    "drugpos_by_position = arrest_data.loc[arrest_data[\"CATEGORY\"] == \"Drugs\", :][\"POSITION\"].value_counts()\n",
    "drugpos_by_position.head()"
   ]
  },
  {
   "cell_type": "code",
   "execution_count": 24,
   "metadata": {},
   "outputs": [
    {
     "data": {
      "text/plain": [
       "POSITION\n",
       "LB    14\n",
       "CB    12\n",
       "WR    12\n",
       "RB     7\n",
       "S      5\n",
       "Name: count, dtype: int64"
      ]
     },
     "execution_count": 24,
     "metadata": {},
     "output_type": "execute_result"
    }
   ],
   "source": [
    "assault_by_position = arrest_data.loc[arrest_data[\"CATEGORY\"] == \"Assault\", :][\"POSITION\"].value_counts()\n",
    "assault_by_position.head()"
   ]
  },
  {
   "cell_type": "code",
   "execution_count": 25,
   "metadata": {},
   "outputs": [
    {
     "data": {
      "text/plain": [
       "POSITION\n",
       "WR    8\n",
       "CB    7\n",
       "OT    6\n",
       "DT    5\n",
       "RB    5\n",
       "Name: count, dtype: int64"
      ]
     },
     "execution_count": 25,
     "metadata": {},
     "output_type": "execute_result"
    }
   ],
   "source": [
    "dc_by_position = arrest_data.loc[arrest_data[\"CATEGORY\"] == \"Disorderly conduct\", :][\"POSITION\"].value_counts()\n",
    "dc_by_position.head()"
   ]
  },
  {
   "cell_type": "code",
   "execution_count": 26,
   "metadata": {},
   "outputs": [
    {
     "data": {
      "text/plain": [
       "YEAR\n",
       "2006    71\n",
       "2008    68\n",
       "2007    63\n",
       "2013    62\n",
       "2010    54\n",
       "2009    52\n",
       "2014    51\n",
       "2011    48\n",
       "2005    48\n",
       "2012    47\n",
       "2001    44\n",
       "2003    43\n",
       "2002    43\n",
       "2015    40\n",
       "2000    39\n",
       "2004    39\n",
       "2016    26\n",
       "2017    12\n",
       "Name: count, dtype: int64"
      ]
     },
     "execution_count": 26,
     "metadata": {},
     "output_type": "execute_result"
    }
   ],
   "source": [
    "arrests_each_year = arrest_data[\"YEAR\"].value_counts()\n",
    "arrests_each_year"
   ]
  },
  {
   "cell_type": "code",
   "execution_count": 27,
   "metadata": {},
   "outputs": [
    {
     "data": {
      "text/plain": [
       "YEAR\n",
       "2006    19\n",
       "2012    17\n",
       "2010    17\n",
       "2008    16\n",
       "2004    16\n",
       "2013    15\n",
       "2002    14\n",
       "2003    14\n",
       "2007    12\n",
       "2009    11\n",
       "2005    11\n",
       "2001    10\n",
       "2016     9\n",
       "2014     9\n",
       "2000     9\n",
       "2015     8\n",
       "2011     8\n",
       "Name: count, dtype: int64"
      ]
     },
     "execution_count": 27,
     "metadata": {},
     "output_type": "execute_result"
    }
   ],
   "source": [
    "dui_by_year = arrest_data.loc[arrest_data[\"CATEGORY\"] == \"DUI\", :][\"YEAR\"].value_counts()\n",
    "dui_by_year"
   ]
  },
  {
   "cell_type": "code",
   "execution_count": 28,
   "metadata": {},
   "outputs": [
    {
     "data": {
      "text/plain": [
       "YEAR\n",
       "2006    10\n",
       "2008     9\n",
       "2005     9\n",
       "2001     8\n",
       "2013     7\n",
       "2015     6\n",
       "2010     6\n",
       "2007     5\n",
       "2000     5\n",
       "2009     5\n",
       "2014     5\n",
       "2002     4\n",
       "2011     3\n",
       "2012     3\n",
       "2004     3\n",
       "2003     3\n",
       "2016     2\n",
       "2017     1\n",
       "Name: count, dtype: int64"
      ]
     },
     "execution_count": 28,
     "metadata": {},
     "output_type": "execute_result"
    }
   ],
   "source": [
    "dv_by_year = arrest_data.loc[arrest_data[\"CATEGORY\"] == \"Domestic violence\", :][\"YEAR\"].value_counts()\n",
    "dv_by_year"
   ]
  },
  {
   "cell_type": "markdown",
   "metadata": {},
   "source": [
    "STATISTICS"
   ]
  },
  {
   "cell_type": "code",
   "execution_count": 29,
   "metadata": {},
   "outputs": [
    {
     "name": "stdout",
     "output_type": "stream",
     "text": [
      "<class 'pandas.core.frame.DataFrame'>\n",
      "RangeIndex: 850 entries, 0 to 849\n",
      "Data columns (total 9 columns):\n",
      " #   Column       Non-Null Count  Dtype \n",
      "---  ------       --------------  ----- \n",
      " 0   DATE         850 non-null    object\n",
      " 1   TEAM         850 non-null    object\n",
      " 2   NAME         850 non-null    object\n",
      " 3   POSITION     850 non-null    object\n",
      " 4   CASE         850 non-null    object\n",
      " 5   CATEGORY     850 non-null    object\n",
      " 6   DESCRIPTION  850 non-null    object\n",
      " 7   OUTCOME      850 non-null    object\n",
      " 8   YEAR         850 non-null    object\n",
      "dtypes: object(9)\n",
      "memory usage: 59.9+ KB\n"
     ]
    }
   ],
   "source": [
    "# Get the information on teh DataFrame\n",
    "arrest_data.info()"
   ]
  },
  {
   "cell_type": "code",
   "execution_count": 30,
   "metadata": {},
   "outputs": [
    {
     "data": {
      "text/plain": [
       "35"
      ]
     },
     "execution_count": 30,
     "metadata": {},
     "output_type": "execute_result"
    }
   ],
   "source": [
    "# Count the number of the team im the DataFrame\n",
    "team_count_number = arrest_data[\"TEAM\"].nunique()\n",
    "team_count_number"
   ]
  },
  {
   "cell_type": "code",
   "execution_count": 31,
   "metadata": {},
   "outputs": [
    {
     "name": "stdout",
     "output_type": "stream",
     "text": [
      "[['MIN', 49], ['DEN', 47], ['CIN', 44], ['TEN', 36], ['TB', 36], ['IND', 35], ['JAC', 34], ['CLE', 33], ['KC', 32], ['CHI', 32], ['MIA', 31], ['BAL', 27], ['SEA', 26], ['SD', 26], ['NO', 25], ['SF', 24], ['PIT', 24], ['GB', 23], ['ARI', 21], ['OAK', 21], ['CAR', 21], ['WAS', 21], ['ATL', 20], ['NYJ', 20], ['NE', 20], ['BUF', 19], ['DET', 18], ['PHI', 18], ['DAL', 17], ['NYG', 16], ['HOU', 13], ['STL', 12], ['LAR', 5], ['Free agent', 3], ['LAC', 1]]\n"
     ]
    }
   ],
   "source": [
    "# Get the number of arrestation by team\n",
    "Team_arrestation = team_count.reset_index()\n",
    "Team_arrestation_list = Team_arrestation.values.tolist()\n",
    "print(Team_arrestation_list)\n"
   ]
  },
  {
   "cell_type": "code",
   "execution_count": 32,
   "metadata": {},
   "outputs": [
    {
     "name": "stdout",
     "output_type": "stream",
     "text": [
      "The mean of arrestation is:24.285714285714285\n",
      "The median of arrestation is:23.0\n",
      "The mode of arrestation is :0    21\n",
      "Name: number of arrestation, dtype: int64\n"
     ]
    }
   ],
   "source": [
    "# Determine measure of central tendency of arrestation \n",
    "\n",
    "Team_arrestation = team_count.reset_index(name =\"number of arrestation\")\n",
    "Team_arrestation_average = Team_arrestation['number of arrestation'].mean() \n",
    "Team_arrestation_median = Team_arrestation['number of arrestation'].median()\n",
    "Team_arrestation_mode = Team_arrestation['number of arrestation'].mode()\n",
    "print(f\"The mean of arrestation is:{Team_arrestation_average}\")\n",
    "print(f\"The median of arrestation is:{Team_arrestation_median}\")\n",
    "print(f\"The mode of arrestation is :{Team_arrestation_mode}\")       "
   ]
  },
  {
   "cell_type": "code",
   "execution_count": null,
   "metadata": {},
   "outputs": [],
   "source": [
    "  #According to the top 5 category of arrestation, finds the measure of centrale tendancy by year\n",
    "   # Top 5 = [DUI,Drugs, Domestic Violence, Assault, Disorderly conduct]\n",
    "for year in YEAR\n",
    "\n"
   ]
  },
  {
   "cell_type": "code",
   "execution_count": null,
   "metadata": {},
   "outputs": [],
   "source": []
  }
 ],
 "metadata": {
  "kernelspec": {
   "display_name": "Python 3 (ipykernel)",
   "language": "python",
   "name": "python3"
  },
  "language_info": {
   "codemirror_mode": {
    "name": "ipython",
    "version": 3
   },
   "file_extension": ".py",
   "mimetype": "text/x-python",
   "name": "python",
   "nbconvert_exporter": "python",
   "pygments_lexer": "ipython3",
   "version": "3.11.5"
  }
 },
 "nbformat": 4,
 "nbformat_minor": 2
}
